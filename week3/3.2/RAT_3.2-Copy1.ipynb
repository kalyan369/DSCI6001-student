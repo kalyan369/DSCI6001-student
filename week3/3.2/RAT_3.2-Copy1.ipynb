{
 "cells": [
  {
   "cell_type": "markdown",
   "metadata": {},
   "source": [
    "# RAT 3.2\n",
    "\n",
    "1. Write down the general (variables) formula for a linear system of $M$ equations of dimension $N$. \n",
    "\n",
    "\n",
    "2. The RREF of a matrix A is:\n",
    "\n",
    "$$ \\left[ \\begin{array}{ccc|c} 1 & 0 & -3 & 4\\\\\n",
    "                               0 & 1 & 2 & -2\\\\\n",
    "                               0 & 0 & 0 & 0\\end{array} \\right]$$\n",
    "                               \n",
    "  a) How many solutions does this system have? Why?\n",
    "  \n",
    "  b) What are the dependent and independent variables?\n",
    "  \n",
    "  c) Is this system invertible?\n",
    "  \n",
    "  d) How many solutions would this system have if the lowermost right element were nonzero?"
   ]
  },
  {
   "cell_type": "code",
   "execution_count": 2,
   "metadata": {
    "collapsed": false
   },
   "outputs": [],
   "source": [
    "[a1x1 + a1x2 +anxn], [a2x1 + a2x2 +anxn], [amxn + amxn +anxn] = [b1, b2, bn]"
   ]
  },
  {
   "cell_type": "code",
   "execution_count": 5,
   "metadata": {
    "collapsed": false
   },
   "outputs": [],
   "source": [
    "# a)\n",
    "# it has 1 solution. Three equations and three variables."
   ]
  },
  {
   "cell_type": "code",
   "execution_count": 4,
   "metadata": {
    "collapsed": true
   },
   "outputs": [],
   "source": [
    "# b)\n",
    "# the dependent variables are 4, -2, and 0. The independent variables are the x values."
   ]
  },
  {
   "cell_type": "code",
   "execution_count": null,
   "metadata": {
    "collapsed": true
   },
   "outputs": [],
   "source": [
    "# c)\n",
    "yes b/c determinant in not zero"
   ]
  },
  {
   "cell_type": "code",
   "execution_count": null,
   "metadata": {
    "collapsed": true
   },
   "outputs": [],
   "source": [
    "# d)"
   ]
  }
 ],
 "metadata": {
  "kernelspec": {
   "display_name": "Python 3",
   "language": "python",
   "name": "python3"
  },
  "language_info": {
   "codemirror_mode": {
    "name": "ipython",
    "version": 3
   },
   "file_extension": ".py",
   "mimetype": "text/x-python",
   "name": "python",
   "nbconvert_exporter": "python",
   "pygments_lexer": "ipython3",
   "version": "3.5.2"
  }
 },
 "nbformat": 4,
 "nbformat_minor": 0
}
