{
 "cells": [
  {
   "cell_type": "markdown",
   "metadata": {},
   "source": [
    "# RAT 3.4\n",
    "\n",
    "1) Suppose $A$ is a linear map described as a matrix. What is the relationship of $im(A^{T})$ to A?\n"
   ]
  },
  {
   "cell_type": "markdown",
   "metadata": {},
   "source": [
    "the image of A transpose is the set of linearly independent rows for A, since the image of any matrix is its set of linearly independent columns."
   ]
  },
  {
   "cell_type": "markdown",
   "metadata": {},
   "source": [
    "2) Let $\\vec{v} = \\begin{bmatrix} v_1\\\\v_2\\\\v_3 \\end{bmatrix}$,  $\\vec{u} = \\begin{bmatrix} u_1 & u_2  & u_3 \\end{bmatrix}$ \n",
    "\n",
    "    a) Is the inner product $\\vec{u} \\vec{v}$ defined? If so what is the value of this product?\n",
    "    \n",
    "    b) Is the inner product $\\vec{v} \\vec{u}$ defined? If so what is the value of this product?\n",
    "    \n",
    "    c) Is the inner product $\\vec{v^{T}} \\vec{u^{T}}$ defined? If so what is the value of this product?\n",
    "    \n",
    "    d) In your own words, what is the meaning of the dot or inner product between two vectors?\n",
    "    \n",
    "    "
   ]
  },
  {
   "cell_type": "markdown",
   "metadata": {
    "collapsed": true
   },
   "source": [
    "a) Yes. the value is $\\vec{uv} = \\begin{bmatrix} u_1v_1\\ u_2v_2\\ u_3v_3 \\end{bmatrix}$\n",
    "\n",
    "b) Yes. the value is $\\vec{vu} = \\begin{bmatrix} v_1u_1\\\\v_2u_2\\\\v_3u_3 \\end{bmatrix}$\n",
    "\n",
    "c) Yes. the value is $\\vec{v^{T}u^{T}} = \\begin{bmatrix} v^{T}_1u^{T}_1\\ v^{T}_2u^{T}_2\\ v^{T}_3u^{T}_3 \\end{bmatrix}$\n",
    "\n",
    "d) it is the multiplied sum of all the components in two matricies that accurately describes their effect on each other."
   ]
  },
  {
   "cell_type": "code",
   "execution_count": null,
   "metadata": {
    "collapsed": true
   },
   "outputs": [],
   "source": []
  }
 ],
 "metadata": {
  "kernelspec": {
   "display_name": "Python 3",
   "language": "python",
   "name": "python3"
  },
  "language_info": {
   "codemirror_mode": {
    "name": "ipython",
    "version": 3
   },
   "file_extension": ".py",
   "mimetype": "text/x-python",
   "name": "python",
   "nbconvert_exporter": "python",
   "pygments_lexer": "ipython3",
   "version": "3.5.2"
  }
 },
 "nbformat": 4,
 "nbformat_minor": 0
}
