{
 "cells": [
  {
   "cell_type": "markdown",
   "metadata": {},
   "source": [
    "## RAT 3.1\n",
    "\n",
    "1. Suppose you have a vector $\\begin{bmatrix}3 \\\\ -4 \\\\ 9\\end{bmatrix}$. Express this vector using the standard basis $e_{3}$.\n",
    "\n",
    "2. Come up with your own $2 \\times 2$ skew-symmetric matrix. What are the eigenvalues of this matrix?"
   ]
  },
  {
   "cell_type": "code",
   "execution_count": 1,
   "metadata": {
    "collapsed": true
   },
   "outputs": [],
   "source": [
    "#1\n",
    "\n",
    "e3 = [0, 0, 1]"
   ]
  },
  {
   "cell_type": "code",
   "execution_count": null,
   "metadata": {
    "collapsed": true
   },
   "outputs": [],
   "source": [
    "#2\n",
    "\n",
    "A = [[0, -2], [2, 0]]\n",
    "|A| = L^2 + 4\n",
    "\n",
    "L1 = 2\n",
    "L2 = -2"
   ]
  }
 ],
 "metadata": {
  "kernelspec": {
   "display_name": "Python 3",
   "language": "python",
   "name": "python3"
  },
  "language_info": {
   "codemirror_mode": {
    "name": "ipython",
    "version": 3
   },
   "file_extension": ".py",
   "mimetype": "text/x-python",
   "name": "python",
   "nbconvert_exporter": "python",
   "pygments_lexer": "ipython3",
   "version": "3.5.2"
  }
 },
 "nbformat": 4,
 "nbformat_minor": 0
}
