{
 "cells": [
  {
   "cell_type": "markdown",
   "metadata": {},
   "source": [
    "# Skills Test 2\n",
    "\n",
    "Welcome to your second skills test!\n",
    "\n",
    "You may turn it in within the ipython notebook by saving the notebook with your name and emailing the notebook to the primary instructor and DSR.\n",
    "\n",
    "### Part 1:\n",
    "\n",
    "Recall that we write the linear equation $A\\vec{x} = b$. When we describe a line in $\\mathbb{R}^n$ (from the linear equation) in parametric form, we include the origin of the line in the equation, such that $\\vec{x} = s\\vec{u}+\\vec{b}$, for $s \\in \\mathbb{R}$, where $\\vec{u} \\in \\mathbb{R}^n$. \n",
    "\n",
    "You are given the linear system characterized by the matrix $A$ (given in RREF) and augmented by $b$:\n",
    "\n",
    "$$A_{RREF}|b = \\left [ \\begin{array}{cccc|c}1 & 0 & 3 & 0 & 5\\\\ 0 & 1 & -2 & 0 & 3 \\\\ 0 & 0 & 0 & 1 & 1  \\end{array} \\right ]$$\n",
    "\n",
    "1. You have solved many equations like this before. Here it is simply a linear system. What is the parametric equation of this linear system? What does the parametric equation describe?\n",
    "\n",
    "2. If $A$ were a transformation $T$, what fields are the domain and range of the transformation? \n",
    "\n",
    "3. Given the above information, find all solutions to $A\\vec{x} = 0$.\n",
    "\n",
    "4. Does the matrix equation $A\\vec{x} = c$ have a solution for every $c$ in $\\mathbb{R}^3$? Provide a one sentence explanation for your answer.\n",
    "\n",
    "5. Find $M^{9876543210}$ where $M = \\begin{bmatrix}1&0\\\\2&-1\\end{bmatrix}$\n",
    "\n",
    "6. Consider the $2 \\times 2$ matrix $B = \\begin{bmatrix}a&b\\\\c&d\\end{bmatrix}$ where $a,b,c,d$ are real numbers and $a \\neq 0$. Find all values $d$ such that $rank(B) = 1$\n",
    "\n",
    "7. Find a basis for the kernel of $A$ and a basis for the image of $A$, where $A = \\begin{bmatrix}2&4&8\\\\4&5&1\\\\7&9&3\\end{bmatrix}$\n",
    "\n",
    "8. Find a basis for the space of all matrices $A = \\begin{bmatrix}a&b\\\\c&d\\end{bmatrix}$ where $a+b+c+d = 0$\n",
    "\n",
    "\n",
    "### Part 2:\n",
    "\n",
    "\n",
    "Given points $A = \\begin{bmatrix}1 \\\\ 2 \\\\ -3\\end{bmatrix}$, $B = \\begin{bmatrix}1 \\\\ 5 \\\\ 0\\end{bmatrix}$, $C = \\begin{bmatrix}5 \\\\ 6 \\\\ -1\\end{bmatrix}$ (problems 1, 2, 3, 4)\n",
    "\n",
    "1. Show that $\\vec{AB}$ is perpendicular to $\\vec{BC}$ and find the area of the triangle $ABC$\n",
    "\n",
    "2. Find the equation of the plane ABC.\n",
    "\n",
    "3. Find the distance of the point $D = \\begin{bmatrix}4 \\\\ -1 \\\\ 3\\end{bmatrix}$ to $ABC$.\n",
    "\n",
    "4. Show that the volume of tetrahedron $ABCD$ is 21.\n",
    "\n",
    "5. Calculate the angle between the two planes $\\begin{bmatrix}1 & -1 & 5\\end{bmatrix}$ $\\begin{bmatrix}x_{1} \\\\ x_{2} \\\\ X_{3}\\end{bmatrix}=2$ and $\\begin{bmatrix}3 & 2 & -1\\end{bmatrix}$ $\\begin{bmatrix}x_{1} \\\\ x_{2} \\\\ x_{3}\\end{bmatrix}=5$\n",
    "\n",
    "6. Where does the line $\\vec{x} = \\begin{bmatrix}1 \\\\ 1 \\\\ 0\\end{bmatrix} + t\\begin{bmatrix}2 \\\\ 3 \\\\ 4\\end{bmatrix}$ intersect the plane $\\begin{bmatrix}2 & 1 & -1\\end{bmatrix}$ $\\begin{bmatrix}x_{1} \\\\ x_{2} \\\\ x_{3}\\end{bmatrix}=0$?"
   ]
  },
  {
   "cell_type": "markdown",
   "metadata": {},
   "source": [
    "$$A_{RREF}|b = \\left [ \\begin{array}{cccc|c}1 & 0 & 3 & 0 & 5\\\\ 0 & 1 & -2 & 0 & 3 \\\\ 0 & 0 & 0 & 1 & 1  \\end{array} \\right ]$$"
   ]
  },
  {
   "cell_type": "markdown",
   "metadata": {},
   "source": [
    "# Part 1 Answers:"
   ]
  },
  {
   "cell_type": "markdown",
   "metadata": {
    "collapsed": true
   },
   "source": [
    "#### Question 1.1:\n",
    "\n",
    "$x_1 + 3x_3 = 5 \\\\ x_2 - 2x_3 = 3 \\\\ x_4 = 1$\n",
    "\n",
    "$\\vec{x} = \\begin{bmatrix}x_1 \\\\ x_2 \\\\ x_3 \\\\ x_4 \\end{bmatrix} + t\\begin{bmatrix}-3 \\\\ 2 \\\\ 1 \\\\ 0\\end{bmatrix}$"
   ]
  },
  {
   "cell_type": "markdown",
   "metadata": {},
   "source": [
    "#### Question 1.2:\n",
    "\n",
    "Domain: $\\mathbb{R}^4$\n",
    "\n",
    "Range: im(T): $x_1 \\begin{bmatrix} 1 \\\\ 0 \\\\ 0 \\end{bmatrix} +\\ x_2 \\begin{bmatrix} 0 \\\\ 1 \\\\ 0 \\end{bmatrix} +\\ x_3 \\begin{bmatrix} 3 \\\\ -2 \\\\ 0 \\end{bmatrix} +\\ x_4 \\begin{bmatrix} 0 \\\\ 0 \\\\ 1 \\end{bmatrix}; \\ x_i \\in \\mathbb{R}$"
   ]
  },
  {
   "cell_type": "markdown",
   "metadata": {
    "collapsed": true
   },
   "source": [
    "#### Question 1.3\n",
    "\n",
    "Kernel of A = Ker(A) => A $\\begin{bmatrix} x_1 \\\\ x_2 \\\\ x_3 \\end{bmatrix} = \\begin{bmatrix} 0 \\\\ 0 \\\\ 0 \\end{bmatrix}$\n",
    "\n",
    "$A_{RREF}|b = \\left [ \\begin{array}{cccc|c}1 & 0 & 3 & 0 & 0\\\\ 0 & 1 & -2 & 0 & 0 \\\\ 0 & 0 & 0 & 1 & 0  \\end{array} \\right ] \\\\ x_3 \\text {as a free variable, set equal to} \\ t \\\\ x_1 + 3x_3 = 0 \\\\ x_1 + 3t = 0 \\\\ x_1 = -3t \\\\ \\\\ x_2 - 2x_3 = 0 \\\\ x_2 - 2t = 0 \\\\ x_2 = 2t$"
   ]
  },
  {
   "cell_type": "markdown",
   "metadata": {},
   "source": [
    "Ker(A) = $\\begin{bmatrix} x_1 \\\\ x_2 \\\\ x_3 \\end{bmatrix} = \\begin{bmatrix} -3 \\\\ 2 \\\\ 1 \\end{bmatrix}$"
   ]
  },
  {
   "cell_type": "markdown",
   "metadata": {},
   "source": [
    "#### Question 1.4\n",
    "\n",
    "Yes it does because A is a consistent system. "
   ]
  },
  {
   "cell_type": "markdown",
   "metadata": {},
   "source": [
    "#### Question 1.5"
   ]
  },
  {
   "cell_type": "code",
   "execution_count": 28,
   "metadata": {
    "collapsed": false
   },
   "outputs": [
    {
     "data": {
      "text/plain": [
       "array([[1, 0],\n",
       "       [0, 1]])"
      ]
     },
     "execution_count": 28,
     "metadata": {},
     "output_type": "execute_result"
    }
   ],
   "source": [
    "import numpy as np\n",
    "M = np.asarray([[1, 0], [2, -1]])\n",
    "M.dot(M)"
   ]
  },
  {
   "cell_type": "code",
   "execution_count": 30,
   "metadata": {
    "collapsed": false
   },
   "outputs": [
    {
     "data": {
      "text/plain": [
       "array([[1, 0],\n",
       "       [0, 1]])"
      ]
     },
     "execution_count": 30,
     "metadata": {},
     "output_type": "execute_result"
    }
   ],
   "source": [
    "M = M.dot(M)\n",
    "M"
   ]
  },
  {
   "cell_type": "markdown",
   "metadata": {},
   "source": [
    "Regardless of how many times this matrix is multiplied by itself, it will end up at $M = \\begin{bmatrix}1&0\\\\0&1\\end{bmatrix}$"
   ]
  },
  {
   "cell_type": "markdown",
   "metadata": {},
   "source": [
    "#### Question 1.6\n",
    "\n",
    "$rank(B) = 1 \\ $ when $c$ and $d$ equal 0, and when B is in row eschelon form, so that there will only be one linearly independent, non-zero vector in the matrix. The values of $d$ that satisfy this requirement are found as follows:"
   ]
  },
  {
   "cell_type": "markdown",
   "metadata": {},
   "source": [
    "$B = \\begin{bmatrix}a&b\\\\c&d\\end{bmatrix} \\\\ B = \\begin{bmatrix}a&b\\\\0&\\frac{bc}{a}d\\end{bmatrix} \\\\ \\frac{bc}{a} - d = 0 \\\\ d = \\frac{bc}{a}$"
   ]
  },
  {
   "cell_type": "markdown",
   "metadata": {},
   "source": [
    "#### Question 1.7\n",
    "\n",
    "$A = \\begin{bmatrix}2&4&8\\\\4&5&1\\\\7&9&3\\end{bmatrix} \\\\ A_{RREF}|b = \\left [ \\begin{array}{ccc|c}1 & 0 & -6 & 0 \\\\ 0 & 1 & 5 & 0 \\\\ 0 & 0 & 1 & 0 \\end{array} \\right ] \\\\ $"
   ]
  },
  {
   "cell_type": "markdown",
   "metadata": {},
   "source": [
    "$\\text{Kernel of A = Ker(A) =>} A \\begin{bmatrix} x_1 \\\\ x_2 \\\\ x_3 \\end{bmatrix} = \\begin{bmatrix} 0 \\\\ 0 \\\\ 0 \\end{bmatrix}$"
   ]
  },
  {
   "cell_type": "markdown",
   "metadata": {},
   "source": [
    "$x_1 -6x_3 = 0 \\\\ x_1 = 6x_3 \\\\$\n",
    "\n",
    "$x_2 + 5x_3 = 0 \\\\ x_2 = -5x_3$\n",
    "\n",
    "$Ker(A) = \\begin{bmatrix} x_1 \\\\ x_2 \\\\ x_3 \\end{bmatrix} = \\begin{bmatrix} 6 \\\\ -5 \\\\ 1 \\end{bmatrix}$"
   ]
  },
  {
   "cell_type": "markdown",
   "metadata": {},
   "source": [
    "im(A): $x_1 \\begin{bmatrix} 2 \\\\ 4 \\\\ 7 \\end{bmatrix} +\\ x_2 \\begin{bmatrix} 4 \\\\ 5 \\\\ 9 \\end{bmatrix} +\\ x_3 \\begin{bmatrix} 8 \\\\ 1 \\\\ 3 \\end{bmatrix}; \\ x_i \\in \\mathbb{R}$"
   ]
  },
  {
   "cell_type": "markdown",
   "metadata": {},
   "source": [
    "#### Question 1.8\n",
    "\n",
    "Basis for $A = \\begin{bmatrix}a&b\\\\c&d\\end{bmatrix} = a\\begin{bmatrix}1&0\\\\0&0\\end{bmatrix} + b\\begin{bmatrix}0&1\\\\0&0\\end{bmatrix} + c\\begin{bmatrix}0&0\\\\1&0\\end{bmatrix} + d\\begin{bmatrix}0&0\\\\0&1\\end{bmatrix}$"
   ]
  },
  {
   "cell_type": "markdown",
   "metadata": {},
   "source": [
    "# Part 2 Answers:\n"
   ]
  },
  {
   "cell_type": "code",
   "execution_count": 55,
   "metadata": {
    "collapsed": false
   },
   "outputs": [],
   "source": [
    "A = np.asarray([1,2,-3])\n",
    "B = np.asarray([1,5,0])\n",
    "C = np.asarray([5,6,-1])\n",
    "D = np.asarray([4,-1,3])"
   ]
  },
  {
   "cell_type": "markdown",
   "metadata": {},
   "source": [
    "#### Question 2.1"
   ]
  },
  {
   "cell_type": "code",
   "execution_count": 56,
   "metadata": {
    "collapsed": false
   },
   "outputs": [
    {
     "data": {
      "text/plain": [
       "0"
      ]
     },
     "execution_count": 56,
     "metadata": {},
     "output_type": "execute_result"
    }
   ],
   "source": [
    "AB = B-A\n",
    "BC = C-B\n",
    "AB.dot(BC) # If this equals zero, then AB and BC are perpendicular"
   ]
  },
  {
   "cell_type": "code",
   "execution_count": 61,
   "metadata": {
    "collapsed": false
   },
   "outputs": [
    {
     "data": {
      "text/plain": [
       "53.999999999999986"
      ]
     },
     "execution_count": 61,
     "metadata": {},
     "output_type": "execute_result"
    }
   ],
   "source": [
    "ABC = np.asarray([A,B,C])\n",
    "np.linalg.det(ABC) #area equals determinant of the matrix"
   ]
  },
  {
   "cell_type": "markdown",
   "metadata": {},
   "source": [
    "#### Question 2.2\n",
    "\n",
    "Equation of a plane = $ax + by + cz = d \\ \\text{where} \\begin{bmatrix}a \\\\ b \\\\ c\\end{bmatrix} \\text{is the vector normal to the plane.}$"
   ]
  },
  {
   "cell_type": "markdown",
   "metadata": {},
   "source": [
    "$\\begin{bmatrix}a \\\\ b \\\\ c\\end{bmatrix} = \\vec{AB} \\times \\vec{BC}$"
   ]
  },
  {
   "cell_type": "code",
   "execution_count": 66,
   "metadata": {
    "collapsed": false
   },
   "outputs": [
    {
     "name": "stdout",
     "output_type": "stream",
     "text": [
      "a =  -6 ;b =  12 ;c =  -12\n"
     ]
    }
   ],
   "source": [
    "a, b, c = np.cross(AB, BC)\n",
    "print(\"a = \", a, \";b = \", b, \";c = \", c)"
   ]
  },
  {
   "cell_type": "markdown",
   "metadata": {},
   "source": [
    "$ax + by + cz = d \\\\ -6x + 12y - 12z = d \\\\ \\text{at point B} -6(1) + 12(5) - 12(0) = d \\\\ 54 = d \\\\ \\text{equation of the plane:} -6x + 12y - 12z = 54$"
   ]
  },
  {
   "cell_type": "markdown",
   "metadata": {},
   "source": [
    "#### Question 2.3\n",
    "\n",
    "distance from point to a plane = $\\frac{|ax_o + by_o + cz_o + d|}{\\sqrt{a^2 + b^2 + c^2}}$\n",
    "\n",
    "$D = \\begin{bmatrix}4 \\\\ -1 \\\\ 3\\end{bmatrix}$"
   ]
  },
  {
   "cell_type": "markdown",
   "metadata": {},
   "source": [
    "$\\frac{|ax_o + by_o + cz_o + d|}{\\sqrt{a^2 + b^2 + c^2}} \\\\ \\frac{|-6(4) + 12(-1) - 12(3) + 54|}{\\sqrt{(-6)^2 + (-1)^2 + (3)^2}}$"
   ]
  },
  {
   "cell_type": "code",
   "execution_count": 89,
   "metadata": {
    "collapsed": false
   },
   "outputs": [
    {
     "name": "stdout",
     "output_type": "stream",
     "text": [
      "distance from D to plane ABC =  1.0\n"
     ]
    }
   ],
   "source": [
    "print(\"distance from D to plane ABC = \", abs(a*D[0] + 12*D[1] - 12*D[2] + 54)/np.sqrt(a**2 + b**2 + c**2))"
   ]
  },
  {
   "cell_type": "markdown",
   "metadata": {},
   "source": [
    "#### Question 2.4\n",
    "\n",
    "Volume of ABCD = 21. The formula for volume of a tetrahedron is (sources - https://en.wikipedia.org/wiki/Tetrahedron ; https://www.youtube.com/watch?v=0WXcw2hulY0):\n",
    "\n",
    "$V={\\frac {\\mathbf {AD} \\cdot (\\mathbf {AB} \\times \\mathbf {AC} )}{6}}, \\\\ V={\\frac {|det (AD, AB, AC)|}{6}}, $"
   ]
  },
  {
   "cell_type": "code",
   "execution_count": 108,
   "metadata": {
    "collapsed": false
   },
   "outputs": [
    {
     "name": "stdout",
     "output_type": "stream",
     "text": [
      "Volume of ABCD =  21.0 units^3\n"
     ]
    }
   ],
   "source": [
    "AD = D - A\n",
    "AC = C - A\n",
    "triple_scalar_product = np.asarray([AD, AB, AC])\n",
    "print(\"Volume of ABCD = \", abs(np.linalg.det(triple_scalar_product))/6, \"units^3\")"
   ]
  },
  {
   "cell_type": "markdown",
   "metadata": {},
   "source": [
    "#### Question 2.5"
   ]
  },
  {
   "cell_type": "code",
   "execution_count": 111,
   "metadata": {
    "collapsed": false,
    "scrolled": true
   },
   "outputs": [],
   "source": [
    "p1 = np.asarray([1, -1, 5])\n",
    "p2 = np.asarray([3, 2, -1])\n",
    "p1_dot_p2 = p1.dot(p2) #at this hour of the night, it's unfortunate that they are not perpendicular"
   ]
  },
  {
   "cell_type": "markdown",
   "metadata": {},
   "source": [
    "$p1 \\cdot p2 =||p1|| * ||p2|| * cos(\\theta) \\\\ \\frac{p1 \\cdot p2}{||p1|| * ||p2||} = cos(\\theta) \\\\ cos^-1(\\frac{p1 \\cdot p2}{||p1|| * ||p2||}) = \\theta$\n",
    "\n",
    "resource: https://www.youtube.com/watch?v=7CILyquffGo"
   ]
  },
  {
   "cell_type": "code",
   "execution_count": 116,
   "metadata": {
    "collapsed": false
   },
   "outputs": [],
   "source": [
    "p1norm = np.linalg.norm(p1)\n",
    "p2norm = np.linalg.norm(p2)\n",
    "denominator = p1norm*p2norm\n",
    "angle = (p1_dot_p2/denominator)"
   ]
  },
  {
   "cell_type": "code",
   "execution_count": 118,
   "metadata": {
    "collapsed": false
   },
   "outputs": [
    {
     "name": "stdout",
     "output_type": "stream",
     "text": [
      "The angle between these two planes is  1.77801390302 degrees.\n"
     ]
    }
   ],
   "source": [
    "print(\"The angle between these two planes is \", np.arccos(angle), \"degrees.\")"
   ]
  },
  {
   "cell_type": "markdown",
   "metadata": {},
   "source": [
    "#### Question 2.6\n",
    "\n",
    "6. Where does the line $\\vec{x} = \\begin{bmatrix}1 \\\\ 1 \\\\ 0\\end{bmatrix} + t\\begin{bmatrix}2 \\\\ 3 \\\\ 4\\end{bmatrix}$ intersect the plane $\\begin{bmatrix}2 & 1 & -1\\end{bmatrix}$ $\\begin{bmatrix}x_{1} \\\\ x_{2} \\\\ x_{3}\\end{bmatrix}=0$?"
   ]
  },
  {
   "cell_type": "code",
   "execution_count": 121,
   "metadata": {
    "collapsed": false
   },
   "outputs": [
    {
     "data": {
      "text/plain": [
       "3"
      ]
     },
     "execution_count": 121,
     "metadata": {},
     "output_type": "execute_result"
    }
   ],
   "source": [
    "line = np.asarray([1, 1, 0])\n",
    "plane = np.asarray([2, 1, -1])\n",
    "line.dot(plane) #not parallel"
   ]
  },
  {
   "cell_type": "markdown",
   "metadata": {},
   "source": [
    "$point = \\begin{bmatrix}1+2t \\\\ 1+3t \\\\ 4t\\end{bmatrix} \\\\ plane: 2x + y - z = 0 \\\\ 2(1+2t) + (1+3t) - (4t) = 0 \\\\ t = -1 \\\\ point \\ of \\ intersection = \\begin{bmatrix}-1 \\\\ -2 \\\\ -4\\end{bmatrix}$"
   ]
  }
 ],
 "metadata": {
  "kernelspec": {
   "display_name": "Python 3",
   "language": "python",
   "name": "python3"
  },
  "language_info": {
   "codemirror_mode": {
    "name": "ipython",
    "version": 3
   },
   "file_extension": ".py",
   "mimetype": "text/x-python",
   "name": "python",
   "nbconvert_exporter": "python",
   "pygments_lexer": "ipython3",
   "version": "3.5.2"
  }
 },
 "nbformat": 4,
 "nbformat_minor": 0
}
