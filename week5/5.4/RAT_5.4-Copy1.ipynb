{
 "cells": [
  {
   "cell_type": "markdown",
   "metadata": {},
   "source": [
    "# RAT 5.4\n",
    "\n",
    "1. Describe in your own words what an orthogonal matrix is in terms of its action on other matrices or vectors. In what ways do we obtain an orthogonal matrix?\n",
    "\n",
    "2. Assume $D$ is orthogonal. What is its determinant?\n",
    "\n",
    "3. What is the transpose of $A=\\begin{bmatrix}1 & 3 & -1\\\\2 & -1 & -2\\\\4 & 1& -1\\end{bmatrix}$? What is the closed formula for the transpose of a matrix?\n",
    "\n",
    "4. What is a symmetric matrix? What is the closed formula for the transpose of a symmetric matrix?\n",
    "\n",
    "5. Identify the image and kernel of $A = \\begin{bmatrix}1 & 3 & -1\\\\2 & 7 & -2\\\\3 & 9& -3\\end{bmatrix}$\n",
    "\n",
    "6. Take two vectors $v_1 = \\begin{bmatrix}1 \\\\ -1 \\\\ -3\\end{bmatrix}$, $v_2 = \\begin{bmatrix}3 \\\\ -2 \\\\ 1\\end{bmatrix}$. Are these two vectors normal to each other? Produce a calculation that shows this. Use the Gram-Schmidt method to make them *orthonormal* to each other. Now do they form a basis for $\\mathbb{R}^2$?"
   ]
  },
  {
   "cell_type": "markdown",
   "metadata": {
    "collapsed": true
   },
   "source": [
    "#### Question 1\n",
    "\n",
    "An orthogonal matrix has linearly independent column vectors that are all perpendicular to each other and they rotate other matricies or vectors. We can orthogonalize a matrix by completing the gram-schmidt process, taking a QR factorization, or an SVD."
   ]
  },
  {
   "cell_type": "markdown",
   "metadata": {},
   "source": [
    "#### Question 2\n",
    "\n",
    "Either 1 or -1"
   ]
  },
  {
   "cell_type": "markdown",
   "metadata": {},
   "source": [
    "#### Question 3"
   ]
  },
  {
   "cell_type": "code",
   "execution_count": 1,
   "metadata": {
    "collapsed": false
   },
   "outputs": [
    {
     "data": {
      "text/plain": [
       "array([[ 1,  2,  4],\n",
       "       [ 3, -1,  1],\n",
       "       [-1, -2, -1]])"
      ]
     },
     "execution_count": 1,
     "metadata": {},
     "output_type": "execute_result"
    }
   ],
   "source": [
    "import numpy as np\n",
    "A = np.asarray([[1, 3, -1],[2, -1, -2], [4, 1, -1]])\n",
    "A.T"
   ]
  },
  {
   "cell_type": "markdown",
   "metadata": {},
   "source": [
    "$\\text {formula for transpose =} [A_{i,j}]^T = [A_{j,i}]$"
   ]
  },
  {
   "cell_type": "markdown",
   "metadata": {},
   "source": [
    "#### Question 4\n",
    "\n"
   ]
  },
  {
   "cell_type": "markdown",
   "metadata": {},
   "source": [
    "Symmetric matrix is one that is equal to its transpose"
   ]
  },
  {
   "cell_type": "markdown",
   "metadata": {},
   "source": [
    "$\\text {formula for matrix equal to transpose =} [A_{i,j}]^T = [A_{i,j}]$"
   ]
  },
  {
   "cell_type": "markdown",
   "metadata": {},
   "source": [
    "#### Question 5"
   ]
  },
  {
   "cell_type": "markdown",
   "metadata": {},
   "source": [
    "A(rref) = [[1, 3, -1], [0, -1, 0], [0, 0, 0]]\n",
    "\n",
    "Kernel of A = Ker(A) => A $\\begin{bmatrix} x_1 \\\\ x_2 \\\\ x_3 \\end{bmatrix} = \\begin{bmatrix} 0 \\\\ 0 \\\\ 0 \\end{bmatrix} \\\\ Ker(A) = \\begin{bmatrix} x_1 \\\\ x_2 \\\\ x_3 \\end{bmatrix} = t\\begin{bmatrix} -1 \\\\ t \\\\ 1 \\end{bmatrix}$"
   ]
  },
  {
   "cell_type": "markdown",
   "metadata": {},
   "source": [
    "#### Question 6"
   ]
  },
  {
   "cell_type": "code",
   "execution_count": 2,
   "metadata": {
    "collapsed": false
   },
   "outputs": [
    {
     "data": {
      "text/plain": [
       "2"
      ]
     },
     "execution_count": 2,
     "metadata": {},
     "output_type": "execute_result"
    }
   ],
   "source": [
    "v1 = np.asarray([1, -1, -3])\n",
    "v2 = np.asarray([3, -2, 1])\n",
    "v1.dot(v2)"
   ]
  },
  {
   "cell_type": "markdown",
   "metadata": {},
   "source": [
    "no, they are not normal, their dot product is not equal to 0"
   ]
  },
  {
   "cell_type": "code",
   "execution_count": null,
   "metadata": {
    "collapsed": true
   },
   "outputs": [],
   "source": []
  }
 ],
 "metadata": {
  "kernelspec": {
   "display_name": "Python 3",
   "language": "python",
   "name": "python3"
  },
  "language_info": {
   "codemirror_mode": {
    "name": "ipython",
    "version": 3
   },
   "file_extension": ".py",
   "mimetype": "text/x-python",
   "name": "python",
   "nbconvert_exporter": "python",
   "pygments_lexer": "ipython3",
   "version": "3.5.2"
  }
 },
 "nbformat": 4,
 "nbformat_minor": 0
}
