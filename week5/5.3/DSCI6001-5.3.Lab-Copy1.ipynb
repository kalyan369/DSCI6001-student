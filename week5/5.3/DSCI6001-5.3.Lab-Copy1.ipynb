{
 "cells": [
  {
   "cell_type": "markdown",
   "metadata": {},
   "source": [
    "# DSCI 6001 5.3 Lab \n",
    "\n",
    "## QR Factorization II\n",
    "\n",
    "\n",
    "## Practical application of the QR algorithm: Stabilized Gram-Schmidt \n",
    "\n",
    "\n",
    "Because the GS mapping is so onerous (and numerically unstable) to calculate, and the results so difficult to compare,\n",
    "there are several ways in which this problem is addressed. The first is by creating the **Modified or Stabilized Gram Schmidt** algorithm, which creates a different Gram-Schmidt factorization (usually in-place) by using normalized vectors as the input in all parts of the computation, making numerical errors much smaller by comparison:\n",
    "\n",
    "#### Modified Gram-Schmidt\n",
    "\n",
    "\n",
    "$for\\ j\\ in\\ \\{1 \\cdots k\\}$\n",
    "\n",
    "  $\\ \\ \\ \\ \\ for\\ i\\ in\\ \\{1 \\cdots j-1\\}$\n",
    "  \n",
    "   $\\ \\ \\ \\ \\ \\ \\ \\  v_j = v_j - \\text{proj}_{v_{i}}v_{j}$\n",
    "   \n",
    "   $\\ \\ \\ \\ \\   v_j = v_{j}/\\|v_{j}\\|$\n",
    "            \n",
    "\n",
    "### TASK:\n",
    "\n",
    "Implement the MGS algorithm using the below code stub.\n"
   ]
  },
  {
   "cell_type": "code",
   "execution_count": 1,
   "metadata": {
    "collapsed": true
   },
   "outputs": [],
   "source": [
    "import numpy as np"
   ]
  },
  {
   "cell_type": "code",
   "execution_count": 50,
   "metadata": {
    "collapsed": true
   },
   "outputs": [],
   "source": [
    "def stabilized_gram_schmidt(a):\n",
    "    print(a)\n",
    "    a = a.T\n",
    "    a = a.astype(float)\n",
    "    def projection(x, y):\n",
    "        return ((x.dot(y))/(y.dot(y))) * y \n",
    "    \n",
    "#     def magnitude(x):\n",
    "#         for i in x:\n",
    "#             mag = np.asarray([np.sqrt(sum(x[i]**2))])\n",
    "#         return mag\n",
    "                           \n",
    "    for j in range(len(a)):\n",
    "        for i in range(j):\n",
    "            a[j] = a[j] - projection(a[j], a[i])\n",
    "        a[j] = a[j]/np.linalg.norm(a[j])\n",
    "    \n",
    "        \n",
    "    # * I recommend getting the number of columns (or rows if you prefer to flip the matrix)\n",
    "    # * make sure your matrix A is cast into floats\n",
    "    # * begin the top for loop\n",
    "            #* begin the bottom for loop\n",
    "                    # * use the projection subtraction here:\n",
    "                    # remove projection of a[j] over a[i] from a[j]\n",
    "            # * normalize the column (or row) you're working through\n",
    "\n",
    "    return a.T # * return the matrix here. don't rely on pass-by-reference"
   ]
  },
  {
   "cell_type": "code",
   "execution_count": 58,
   "metadata": {
    "collapsed": false
   },
   "outputs": [
    {
     "name": "stdout",
     "output_type": "stream",
     "text": [
      "[]\n"
     ]
    }
   ],
   "source": [
    "print([item for item in range(0)])"
   ]
  },
  {
   "cell_type": "code",
   "execution_count": 52,
   "metadata": {
    "collapsed": false
   },
   "outputs": [],
   "source": [
    "a = np.asarray([[-2, 0, 1], [1, -2, 1], [1, -1, 0]])"
   ]
  },
  {
   "cell_type": "code",
   "execution_count": 53,
   "metadata": {
    "collapsed": false
   },
   "outputs": [
    {
     "name": "stdout",
     "output_type": "stream",
     "text": [
      "[[-2  0  1]\n",
      " [ 1 -2  1]\n",
      " [ 1 -1  0]]\n"
     ]
    },
    {
     "data": {
      "text/plain": [
       "array([[-0.81649658, -0.53452248, -0.21821789],\n",
       "       [ 0.40824829, -0.80178373,  0.43643578],\n",
       "       [ 0.40824829, -0.26726124, -0.87287156]])"
      ]
     },
     "execution_count": 53,
     "metadata": {},
     "output_type": "execute_result"
    }
   ],
   "source": [
    "stabilized_gram_schmidt(a)"
   ]
  },
  {
   "cell_type": "code",
   "execution_count": 55,
   "metadata": {
    "collapsed": false
   },
   "outputs": [
    {
     "name": "stdout",
     "output_type": "stream",
     "text": [
      "[[-2  0  1]\n",
      " [ 1 -2  1]\n",
      " [ 1 -1  0]]\n",
      "[[-0.81649658 -0.53452248 -0.21821789]\n",
      " [ 0.40824829 -0.80178373  0.43643578]\n",
      " [ 0.40824829 -0.26726124 -0.87287156]]\n",
      "[[ -2.00000000e+00  -2.90724631e-16   1.00000000e+00]\n",
      " [  1.00000000e+00  -2.00000000e+00   1.00000000e+00]\n",
      " [  1.00000000e+00  -1.00000000e+00   6.24796589e-16]]\n"
     ]
    }
   ],
   "source": [
    "# Quick test harness\n",
    "\n",
    "A = np.array([[-2, 0, 1 ],[1, -2, 1],[1, -1, 0]])\n",
    "Q = stabilized_gram_schmidt(A)\n",
    "R = Q.dot(A)\n",
    "\n",
    "R = Q.T.dot(A)\n",
    "print(Q)\n",
    "print(Q.dot(R))\n"
   ]
  },
  {
   "cell_type": "code",
   "execution_count": 56,
   "metadata": {
    "collapsed": true
   },
   "outputs": [],
   "source": [
    "# worked with Jonathan H. and Carles on this"
   ]
  },
  {
   "cell_type": "code",
   "execution_count": null,
   "metadata": {
    "collapsed": true
   },
   "outputs": [],
   "source": []
  }
 ],
 "metadata": {
  "kernelspec": {
   "display_name": "Python 3",
   "language": "python",
   "name": "python3"
  },
  "language_info": {
   "codemirror_mode": {
    "name": "ipython",
    "version": 3
   },
   "file_extension": ".py",
   "mimetype": "text/x-python",
   "name": "python",
   "nbconvert_exporter": "python",
   "pygments_lexer": "ipython3",
   "version": "3.5.2"
  }
 },
 "nbformat": 4,
 "nbformat_minor": 0
}
