{
 "cells": [
  {
   "cell_type": "markdown",
   "metadata": {},
   "source": [
    "# DSCI6001 2.2.Lab\n",
    "\n",
    "* In python, create vectors $\\bf x$, $\\bf y$ and $\\bf z$ in $V$ and scalars $a$ and $b$, comprised of random real numbers, for use as follows.\n",
    "\n",
    "* Write code snippets to demonstrate the ten axioms of vector space $R^3$ in operation. Simply express each axiom once in an assertion. \n",
    "\n",
    "* This is just simple python practice, not a formal proof. For example...\n"
   ]
  },
  {
   "cell_type": "code",
   "execution_count": 47,
   "metadata": {
    "collapsed": true
   },
   "outputs": [],
   "source": [
    "import numpy as np"
   ]
  },
  {
   "cell_type": "code",
   "execution_count": 99,
   "metadata": {
    "collapsed": false,
    "scrolled": true
   },
   "outputs": [],
   "source": [
    "a = np.random.uniform(size=1)\n",
    "b = np.random.uniform(size=1)\n",
    "x = np.random.uniform(size=(3,1))\n",
    "y = np.random.uniform(size=(3,1))\n",
    "z = np.random.uniform(size=(3,1))\n",
    "q = np.random.uniform(size=(3,1))\n",
    "q = x+y"
   ]
  },
  {
   "cell_type": "code",
   "execution_count": 76,
   "metadata": {
    "collapsed": false
   },
   "outputs": [],
   "source": [
    "# 1. Closure under addition\n",
    "for i in range(x.shape[0]):\n",
    "    assert type(x[i][0]) == type(q[i][0])\n",
    "for i in range(y.shape[0]):\n",
    "    assert type(y[i][0]) == type(q[i][0])"
   ]
  },
  {
   "cell_type": "code",
   "execution_count": 89,
   "metadata": {
    "collapsed": true
   },
   "outputs": [],
   "source": [
    "# 2. Commutativity of vector addition\n",
    "assert (x+y == y+x).all()"
   ]
  },
  {
   "cell_type": "code",
   "execution_count": 94,
   "metadata": {
    "collapsed": false
   },
   "outputs": [],
   "source": [
    "# 3. Associativity of vector addition\n",
    "assert (x + (y + z)).all() == ((x + y) + z).all()"
   ]
  },
  {
   "cell_type": "code",
   "execution_count": 93,
   "metadata": {
    "collapsed": true
   },
   "outputs": [],
   "source": [
    "# 4. Additive identity\n",
    "assert (0 + x).all() == (x + 0).all() == (x).all()"
   ]
  },
  {
   "cell_type": "code",
   "execution_count": 92,
   "metadata": {
    "collapsed": false
   },
   "outputs": [],
   "source": [
    "# 5. Existence of additive inverse\n",
    "assert (x + (-x)).all() == 0"
   ]
  },
  {
   "cell_type": "code",
   "execution_count": 101,
   "metadata": {
    "collapsed": false
   },
   "outputs": [],
   "source": [
    "# 6. Closure under scalar multiplication\n",
    "sca = a * x\n",
    "for i in range(x.shape[0]):\n",
    "    assert type(x[i][0]) == type(sca[i][0])"
   ]
  },
  {
   "cell_type": "code",
   "execution_count": 96,
   "metadata": {
    "collapsed": false
   },
   "outputs": [],
   "source": [
    "# 7. Associativity of scalar multiplication\n",
    "assert (a*(b*x)).all() == ((a*b)*x).all()"
   ]
  },
  {
   "cell_type": "code",
   "execution_count": 97,
   "metadata": {
    "collapsed": false,
    "scrolled": true
   },
   "outputs": [],
   "source": [
    "# 8. Distributivity of scalar sums\n",
    "assert ((a+b)*x).all() == (a*x + b*x).all()"
   ]
  },
  {
   "cell_type": "code",
   "execution_count": 84,
   "metadata": {
    "collapsed": false
   },
   "outputs": [],
   "source": [
    "# 9. Distributivity of vector sums\n",
    "assert (a*(x+y) == a*x + a*y).all()"
   ]
  },
  {
   "cell_type": "code",
   "execution_count": 86,
   "metadata": {
    "collapsed": false
   },
   "outputs": [],
   "source": [
    "# 10. Scalar multiplication identity\n",
    "assert (1*x == x).all()"
   ]
  }
 ],
 "metadata": {
  "kernelspec": {
   "display_name": "Python 3",
   "language": "python",
   "name": "python3"
  },
  "language_info": {
   "codemirror_mode": {
    "name": "ipython",
    "version": 3
   },
   "file_extension": ".py",
   "mimetype": "text/x-python",
   "name": "python",
   "nbconvert_exporter": "python",
   "pygments_lexer": "ipython3",
   "version": "3.5.2"
  }
 },
 "nbformat": 4,
 "nbformat_minor": 0
}
