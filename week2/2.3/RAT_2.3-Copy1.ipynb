{
 "cells": [
  {
   "cell_type": "markdown",
   "metadata": {},
   "source": [
    "1. What are the eigenvalues and eigenvectors of \n",
    "\n",
    "$A = \\begin{bmatrix}.8 & .3\\\\.2 & .7\\end{bmatrix}$\n",
    "\n",
    "Show most of your steps. Make sure to write the characteristic equation."
   ]
  },
  {
   "cell_type": "markdown",
   "metadata": {
    "collapsed": true
   },
   "source": [
    "Ax = Lx\n",
    "(A-LI)x = 0\n",
    "det((A-LI)x) = 0\n",
    ".1 * [[8-L, 3], [2, 7-L]] = 0\n",
    ".1 * [(L-10)(L-5)] = 0\n",
    "L = 10, 5\n",
    "\n",
    "A - 10I = .1[[-2, 3],[2, -3]]\n",
    "        = .1[[-2, 3], [0, 0]]\n",
    "        -2xone + 3xtwo = 0\n",
    "        x = [1, 2/3] for L = 10\n",
    "        \n",
    "A - 5I = .1[[3, 3], [2, 2]]\n",
    "       = .1[[3, 3], [0, 0]]\n",
    "       3xone + 3xtwo =  0\n",
    "       x = [1, -1] for L = 5"
   ]
  }
 ],
 "metadata": {
  "kernelspec": {
   "display_name": "Python 3",
   "language": "python",
   "name": "python3"
  },
  "language_info": {
   "codemirror_mode": {
    "name": "ipython",
    "version": 3
   },
   "file_extension": ".py",
   "mimetype": "text/x-python",
   "name": "python",
   "nbconvert_exporter": "python",
   "pygments_lexer": "ipython3",
   "version": "3.5.2"
  }
 },
 "nbformat": 4,
 "nbformat_minor": 0
}
