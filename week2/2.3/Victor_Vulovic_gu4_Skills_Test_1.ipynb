{
 "cells": [
  {
   "cell_type": "markdown",
   "metadata": {},
   "source": [
    "## Skills Test 1\n",
    "\n",
    "Welcome to your first skills test!\n",
    "\n",
    "You may turn it in within the ipython notebook by emailing it to jared. jared.thompson@galvanize.com.\n",
    "\n",
    "Use the following naming convention:\n",
    "\n",
    "`MyFirstName_MyLastName_gU4_Skills_Test_1.ipynb`\n"
   ]
  },
  {
   "cell_type": "markdown",
   "metadata": {},
   "source": [
    "### 1.\n",
    "\n",
    "Show that if $ad-bc = 0$ then the below system of equations:\n",
    "\n",
    "$$ax_1 + bx_2 = r$$\n",
    "$$cx_1 + dx_2 = s$$\n",
    " \n",
    " Is consistent within certain conditions. You may make reasonable assumptions about $a, d, b$ and $c$."
   ]
  },
  {
   "cell_type": "code",
   "execution_count": null,
   "metadata": {
    "collapsed": true
   },
   "outputs": [],
   "source": [
    "# M = [[a, b, r], [c, d, s]]\n",
    "# Apply Gaussian Elimination to M\n",
    "\n",
    "# M' = [[1, b/a, r/a],[1, d/c, s/c]]\n",
    "# M\" = [[1, b/a, r/a,], [0, (d/c - b/a), (s/c - r/a)]]\n",
    "\n",
    "# from M\" we convert to linear equations and get:\n",
    "(d/c - b/a) = (s/c - r/a)\n",
    "ad - bc = ra - sc #given that ad - bc = 0;\n",
    "0 = ra - sc #solve for a and for c\n",
    "a = sc/r\n",
    "c = ra/s\n",
    "\n",
    "# Thus, there are infinitely many solutions as 'a' and 'c' can take on any values. Therefore, the system is consistent."
   ]
  },
  {
   "cell_type": "markdown",
   "metadata": {},
   "source": [
    "### 2.\n",
    "\n",
    "Write the augmented matrix for the system below and solve the system. If the system is consistent, provide the general solution set.\n",
    "\n",
    "$$3x_1-x_2+x_3+2x_4 = -2$$\n",
    "$$x_1 + 2x_2 - x_3 + x_4 = 1$$\n",
    "$$-x_1 - 3x_2 + 2x_3 - 4x_4 = -6$$"
   ]
  },
  {
   "cell_type": "code",
   "execution_count": null,
   "metadata": {
    "collapsed": true
   },
   "outputs": [],
   "source": [
    "# because m<n, the system is underdetermined and will have inifitely many solutions\n",
    "# M = [[3, -1, 1, 2, -2], [1, 2, -1, 1, 1], [-1, -3, 2 , -4, -6]] -- to solve, apply Gaussian Elimination several times\n",
    "# M' = [[3, -1, 1, 2, -2], [0, -7/3, -4/3, -1/3, -5/3], [0, 0, 0, 5, 3]]\n",
    "\n",
    "# from M' we conver to linear equations and solve for the variables:\n",
    "3x1 - x2 + x3 + 2x4 = -2\n",
    "0x1 -7/3x2 -4/3x3 -1/3x4 = -5/3\n",
    "5x4 = 3\n",
    "\n",
    "Therefore: x4 = 3/5\n",
    "           x3 = -5/2 -7/4x2\n",
    "           x2 = 6/5 -12/11x1\n",
    "           x1 = 33/30 +11/12x2"
   ]
  },
  {
   "cell_type": "code",
   "execution_count": null,
   "metadata": {
    "collapsed": true
   },
   "outputs": [],
   "source": []
  },
  {
   "cell_type": "markdown",
   "metadata": {
    "collapsed": true
   },
   "source": [
    "### 3.\n",
    "\n",
    "Find the eigenvalues and eigenvectors of:\n",
    "\n",
    "$$\\begin{bmatrix}\n",
    "3 & 4 & -1 \\\\\n",
    "-1 & -2 & 1 \\\\\n",
    "3 & 9 & 0                                                       \\end{bmatrix}$$\n",
    "\n",
    "Show all your work."
   ]
  },
  {
   "cell_type": "code",
   "execution_count": null,
   "metadata": {
    "collapsed": true
   },
   "outputs": [],
   "source": [
    "Ax = Lx\n",
    "(A - LI)x = 0\n",
    "(A - LI)x = [[3-L, 4, -1], [-1, -2-L, 1], [3, 9, 0-L]]\n",
    "|(A - LI)x| = (3-L)(L^2 + 2L -9) - 4(L-3) + -1(-9-(-6-3L)) = 0\n",
    "|(A - LI)x| = -L^3 + L^2 +8L -12 = 0\n",
    "|(A - LI)x| = -1(L-2)(L-2)(L+3) = 0\n",
    "\n",
    "L1 = 2; L2 = 2; L3 = -3 #Eigenvalues\n",
    "\n",
    "A - 2I = [[1, 4, -1], [-1, -4, 1] [3, 9, -2]] #Apply Gaussian Elimination\n",
    "A - 2I = [[1, 4, -1], [0, -3, 1], [0, 0, 0]] #convert to linear equations\n",
    "x1 + 4x2 + x3 = 0\n",
    "-3x2 + x3 = 0 #choose 1 for x2 and solve for x3\n",
    "x3 = 1/3\n",
    "\n",
    "x1 + 4 - 1/3 = 0  #solve for x1\n",
    "x1 = -11/3\n",
    "\n",
    "\n",
    "L1 = L2 = 2\n",
    "at eigenvector v1 = [-11/3, 1, 1/3]\n",
    "\n",
    "# now find eigenvector for L3 = -3\n",
    "A + 3I = [[6, 4, -1], [-1, 1, 1] [3, 9, 3]] #Apply Gaussian Elimination\n",
    "A + 3I = [[6, 4, -1], [0, 1, 1/2], [0, 0, 0]] #convert to linear equations\n",
    "6x1 + 4x2 - x3 = 0\n",
    "x2 + 1/2x3 = 0 #choose 1 for x2 and solve for x3\n",
    "x3 = -2\n",
    "\n",
    "6x1 + 4 + 2 = 0   #solve for x1\n",
    "x1 = -1\n",
    "\n",
    "L3 = -3\n",
    "at eigenvector v2 = [-1, 1, -2]"
   ]
  },
  {
   "cell_type": "markdown",
   "metadata": {},
   "source": [
    "### 4.\n",
    "\n",
    "Suppose there are two matrices $A$ and $B$ and we may define a relationship between $A$ and $B$ as follows:\n",
    "\n",
    "$$A = U^{-1}BU$$\n",
    "\n",
    "This is to say that $A$ and $B$ are *similar matrices*. Show that $det(A) = det(B)$.\n"
   ]
  },
  {
   "cell_type": "markdown",
   "metadata": {},
   "source": [
    "$|A| = |U^{-1}BU| = |U^{-1}||B||U|$\n",
    "\n",
    "$|U^{-1}||B||U| = |U^{-1}||U||B| = \\dfrac{1}{det(U)}det(U)det(B) = det(B) $"
   ]
  },
  {
   "cell_type": "code",
   "execution_count": 1,
   "metadata": {
    "collapsed": false
   },
   "outputs": [
    {
     "ename": "SyntaxError",
     "evalue": "invalid syntax (<ipython-input-1-830d8b89fe65>, line 3)",
     "output_type": "error",
     "traceback": [
      "\u001b[0;36m  File \u001b[0;32m\"<ipython-input-1-830d8b89fe65>\"\u001b[0;36m, line \u001b[0;32m3\u001b[0m\n\u001b[0;31m    |A| = |B| #apply determinant to both sides\u001b[0m\n\u001b[0m    ^\u001b[0m\n\u001b[0;31mSyntaxError\u001b[0m\u001b[0;31m:\u001b[0m invalid syntax\n"
     ]
    }
   ],
   "source": [
    "A = U^-1 * BU \n",
    "A = B # for any (M)(M^-1) = I\n",
    "|A| = |B| #apply determinant to both sides"
   ]
  },
  {
   "cell_type": "markdown",
   "metadata": {},
   "source": [
    "### 5. \n",
    "\n",
    "A $n \\times n$ *square* matrix is **skew-symmetric** if $A^{T} = -A$. Try making such a matrix for yourself. Now show that a skew-symmetric matrix is actually *not invertible* for odd $n$. "
   ]
  },
  {
   "cell_type": "code",
   "execution_count": null,
   "metadata": {
    "collapsed": true
   },
   "outputs": [],
   "source": [
    "A = [[0, -2, -1], [2, 0, -2], [1, 2, 0]]\n",
    "A^T = [[0, 2, 1], [-2, 0, 2], [-1, -2, 0]]\n",
    "-A = [[0, 2, 1], [-2, 0, 2], [-1, -2, 0]]\n",
    "\n",
    "A^T = -A\n",
    "\n",
    "|A| = 0(0-4) - -2(0+2) + -1(4-0)\n",
    "|A| = 4-4\n",
    "|A| = 0\n",
    "\n",
    "#Therefore A is not invertible."
   ]
  },
  {
   "cell_type": "markdown",
   "metadata": {
    "collapsed": true
   },
   "source": [
    "### 6. \n",
    "\n",
    "Determine values of k such that the system:\n",
    "\n",
    "$$4x_1+kx_2 = 12$$\n",
    "\n",
    "$$kx_1+x_2= 3$$\n",
    "\n",
    "Is consistent."
   ]
  },
  {
   "cell_type": "code",
   "execution_count": null,
   "metadata": {
    "collapsed": true
   },
   "outputs": [],
   "source": [
    "# M = [[4, k, 12], [k, 1, 3]] #apply Gauss Elimination\n",
    "# M' = [[4, k, 12], [0, (-4k - (1/k)), (-48-3k)]] # convert to linear equations and solve for k by choosing 1 for x2\n",
    "\n",
    "(-4k - 1/k)x2 = -48 - 3k\n",
    "(k^2 -1)/k = -48\n",
    "k(k^2 +49) = 0\n",
    "\n",
    "k = 0\n",
    "\n",
    "#plug in zero for k\n",
    "4x1 + kx2 = 12 \n",
    "4x1 = 12\n",
    "x1 = 3\n",
    "\n",
    "vector = [3, 1]\n",
    "\n",
    "#Therefore there is at least one solution, and the system is consistent."
   ]
  }
 ],
 "metadata": {
  "kernelspec": {
   "display_name": "Python 3",
   "language": "python",
   "name": "python3"
  },
  "language_info": {
   "codemirror_mode": {
    "name": "ipython",
    "version": 3
   },
   "file_extension": ".py",
   "mimetype": "text/x-python",
   "name": "python",
   "nbconvert_exporter": "python",
   "pygments_lexer": "ipython3",
   "version": "3.5.2"
  }
 },
 "nbformat": 4,
 "nbformat_minor": 0
}
