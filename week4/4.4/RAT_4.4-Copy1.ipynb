{
 "cells": [
  {
   "cell_type": "markdown",
   "metadata": {},
   "source": [
    "# RAT 4.4\n",
    "\n",
    "Orthonormalize $\\vec{v_{1}} = \\begin{bmatrix}1, -2, 1\\end{bmatrix}$, $\\vec{v_{2}} = \\begin{bmatrix}1, 1, 0\\end{bmatrix}$, $\\vec{v_{3}} = \\begin{bmatrix}0, -1, -1\\end{bmatrix}$"
   ]
  },
  {
   "cell_type": "markdown",
   "metadata": {
    "collapsed": true
   },
   "source": [
    "$v1 = v1$\n",
    "\n",
    "$v2 = v2 - proj_{v1}^{v2}$\n",
    "\n",
    "$v2 = [-1/6, 1/3, 1/6]$\n",
    "\n",
    "$v3 = v3 - proj_{v1}^{v3} - proj_{v2}^{v3} $"
   ]
  },
  {
   "cell_type": "markdown",
   "metadata": {},
   "source": [
    "incomplete, ran out of time^^"
   ]
  },
  {
   "cell_type": "code",
   "execution_count": null,
   "metadata": {
    "collapsed": true
   },
   "outputs": [],
   "source": []
  }
 ],
 "metadata": {
  "kernelspec": {
   "display_name": "Python 3",
   "language": "python",
   "name": "python3"
  },
  "language_info": {
   "codemirror_mode": {
    "name": "ipython",
    "version": 3
   },
   "file_extension": ".py",
   "mimetype": "text/x-python",
   "name": "python",
   "nbconvert_exporter": "python",
   "pygments_lexer": "ipython3",
   "version": "3.5.2"
  }
 },
 "nbformat": 4,
 "nbformat_minor": 0
}
