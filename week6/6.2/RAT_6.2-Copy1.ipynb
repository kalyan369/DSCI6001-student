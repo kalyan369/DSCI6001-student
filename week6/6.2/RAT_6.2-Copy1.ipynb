{
 "cells": [
  {
   "cell_type": "markdown",
   "metadata": {},
   "source": [
    "# RAT 6.2\n",
    "\n",
    "1) Take the first directional derivative with respect to $t$ of the parametric description of location $x(t) = \\begin{bmatrix}e^{-2t}\\\\2te^{2t}\\\\t^2\\end{bmatrix}$. What does this quantity signify - that is to say, what is its meaning?"
   ]
  },
  {
   "cell_type": "markdown",
   "metadata": {},
   "source": [
    "2) $f = ln(x)$, $g = x^2e^{x}$ $h = sin(x)$ Compose $g \\circ f \\circ h$. What is the domain of this function? What is its range? Is it a linear transformation?"
   ]
  },
  {
   "cell_type": "markdown",
   "metadata": {},
   "source": [
    "3) Write the Del Operator in any number of coordinates. What is the difference between $\\vec{\\nabla\\ } f$ and $ f\\ \\vec{\\nabla}$ for a **scalar** valued function f?"
   ]
  },
  {
   "cell_type": "markdown",
   "metadata": {},
   "source": [
    "4) $\\vec{f}(x,y,z) = \\begin{bmatrix}3xyz^3\\\\2sin(x)yz^2\\\\z\\ sin^{2}(xy)\\end{bmatrix}$. Compute $\\vec{\\nabla}\\vec{f}$. What does this vector function describe?"
   ]
  },
  {
   "cell_type": "markdown",
   "metadata": {
    "collapsed": true
   },
   "source": [
    "5) Compute $\\vec{\\nabla}\\cdot \\vec{f}$. What does this vector function describe?"
   ]
  },
  {
   "cell_type": "markdown",
   "metadata": {
    "collapsed": true
   },
   "source": [
    "#### Answer 1\n",
    "\n",
    "$x'(t) = \\begin{bmatrix}e^{-2}\\\\4t^2e^{2t} + 2\\\\2t\\end{bmatrix}$\n",
    "\n",
    "It signifies the gradient."
   ]
  },
  {
   "cell_type": "markdown",
   "metadata": {},
   "source": [
    "#### Answer 2\n",
    "\n",
    "$(ln(sin(x)))^2 e^{ln(sin(x))}$"
   ]
  },
  {
   "cell_type": "markdown",
   "metadata": {},
   "source": [
    "Domain is all real numbers\n",
    "Range is 0 to 1\n",
    "Yes, it's a rotation and stretch."
   ]
  },
  {
   "cell_type": "markdown",
   "metadata": {},
   "source": [
    "#### Answer 3\n",
    "\n",
    "$$\\vec{\\nabla} = \\dfrac{\\partial }{\\partial x}\\vec{e_{x}}+\\dfrac{\\partial }{\\partial y}\\vec{e_{y}}+\\dfrac{\\partial }{\\partial z}\\vec{e_{z}} = \\begin{bmatrix}\\dfrac{\\partial }{\\partial x}\\\\\\dfrac{\\partial }{\\partial y}\\\\\\dfrac{\\partial }{\\partial z}\\end{bmatrix}$$\n",
    "\n",
    "The difference between the two is direction."
   ]
  },
  {
   "cell_type": "markdown",
   "metadata": {},
   "source": [
    "#### Answer 4\n",
    "\n",
    "It is the slope of any coordinates in the vector set at a given point, i.e. slope of a plane in 3 directions.\n",
    "\n",
    "$\\vec{f}(x,y,z) = \\begin{bmatrix}3xyz^3\\\\2sin(x)yz^2\\\\z\\ sin^{2}(xy)\\end{bmatrix}$"
   ]
  },
  {
   "cell_type": "markdown",
   "metadata": {},
   "source": [
    "$\\vec{f'}(x,y,z) = \\begin{bmatrix}3yz^3 + 3xz^3 + 9xyz^2\\\\2cos(x)yz^2 + 2sin(x)z^2 + 4sin(x)yz\\\\sin^{2}(xy) + (2xz+2yz)cos(xy)\\end{bmatrix}$"
   ]
  },
  {
   "cell_type": "markdown",
   "metadata": {},
   "source": [
    "#### Answer 5\n",
    "\n",
    "this describes divergence. It is the measure of the rate to which the vectors of the function's vector field increase at a given point. It is also a measure of the tendency of vectors to converge on or repel away from a given point."
   ]
  },
  {
   "cell_type": "code",
   "execution_count": null,
   "metadata": {
    "collapsed": true
   },
   "outputs": [],
   "source": []
  }
 ],
 "metadata": {
  "kernelspec": {
   "display_name": "Python 3",
   "language": "python",
   "name": "python3"
  },
  "language_info": {
   "codemirror_mode": {
    "name": "ipython",
    "version": 3
   },
   "file_extension": ".py",
   "mimetype": "text/x-python",
   "name": "python",
   "nbconvert_exporter": "python",
   "pygments_lexer": "ipython3",
   "version": "3.5.2"
  }
 },
 "nbformat": 4,
 "nbformat_minor": 0
}
