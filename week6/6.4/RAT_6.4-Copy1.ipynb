{
 "cells": [
  {
   "cell_type": "markdown",
   "metadata": {},
   "source": [
    "# RAT 6.4\n",
    "\n",
    "1. Write a working OLS regression using Numpy and describe in your own words the inputs and outputs. \n",
    "\n",
    "2. Describe in your own words what an eigenvalue and eigenvector are.\n",
    "\n",
    "3. Use GJ elimination to produce the inverse of $M = \\begin{bmatrix}1 & 1  & 1\\\\ 2 & 3 & 5 \\\\ 4 & 0 & 5\\end{bmatrix}$\n",
    "\n",
    "4. Can you invert a nonsquare matrix? Is it possible to produce an inverse for a nonsquare matrix if we only consider its image? "
   ]
  },
  {
   "cell_type": "code",
   "execution_count": 3,
   "metadata": {
    "collapsed": false
   },
   "outputs": [
    {
     "data": {
      "text/plain": [
       "(array([[ 3.07692308,  2.38461538,  4.61538462],\n",
       "        [ 2.38461538,  2.92307692,  4.07692308],\n",
       "        [-2.46153846, -1.30769231, -2.69230769]]),\n",
       " array([], dtype=float64),\n",
       " 3,\n",
       " array([ 8.66216523,  2.57430019,  0.58298543]))"
      ]
     },
     "execution_count": 3,
     "metadata": {},
     "output_type": "execute_result"
    }
   ],
   "source": [
    "import numpy as np\n",
    "M = np.asarray([[1,1,1], [2,3,5],[4,0,5]])\n",
    "N = np.asarray([[3,4,6], [1,7,8], [0, 3,5]])\n",
    "np.linalg.lstsq(M, N)"
   ]
  },
  {
   "cell_type": "markdown",
   "metadata": {},
   "source": [
    "#### question 1 commentary\n",
    "\n",
    "inputs are two matricies of values, one of dependent variables, one of independent variables. the output is the slope and y intercept of the best fit line for the data of M and N"
   ]
  },
  {
   "cell_type": "markdown",
   "metadata": {},
   "source": [
    "#### question 2\n",
    "\n",
    "eigenvectors show the direction of a Transformation Matrix's stretching/rotating effect on another matrix or vector. Eigenvalues are the scalar effects (the extent) of the eigenvector's effect. \n"
   ]
  },
  {
   "cell_type": "markdown",
   "metadata": {},
   "source": [
    "#### Question 3\n",
    "\n",
    "$M^-1 = \\begin{bmatrix}15/13 & -5/13  & 2/13\\\\ 10/13 & 1/13 & -3/13 \\\\ -12/13 & 4/13 & 1/13\\end{bmatrix}$"
   ]
  },
  {
   "cell_type": "markdown",
   "metadata": {},
   "source": [
    "#### question 4\n",
    "\n",
    "no you can only invert square matricies.  It's possible to create an inverse for non-square's image if the image is a square matrix. "
   ]
  },
  {
   "cell_type": "code",
   "execution_count": null,
   "metadata": {
    "collapsed": true
   },
   "outputs": [],
   "source": []
  }
 ],
 "metadata": {
  "kernelspec": {
   "display_name": "Python 3",
   "language": "python",
   "name": "python3"
  },
  "language_info": {
   "codemirror_mode": {
    "name": "ipython",
    "version": 3
   },
   "file_extension": ".py",
   "mimetype": "text/x-python",
   "name": "python",
   "nbconvert_exporter": "python",
   "pygments_lexer": "ipython3",
   "version": "3.5.2"
  }
 },
 "nbformat": 4,
 "nbformat_minor": 0
}
