{
 "cells": [
  {
   "cell_type": "markdown",
   "metadata": {},
   "source": [
    "# RAT 6.1\n",
    "\n",
    "1. Factor these two vectors to their simplest representation:\n",
    "   \n",
    "    $v_1 = \\begin{bmatrix}15\\\\-25\\\\-5\\end{bmatrix}$\n",
    "    \n",
    "    $v_2 = \\begin{bmatrix}-3\\sqrt{15}\\\\15\\sqrt{5}\\\\-9\\sqrt{20}\\end{bmatrix}$\n",
    "    \n",
    "2. Calculate the inner product of $v_1$ and $v_2$, $v_1^{T}v_2$\n",
    "\n",
    "3. Make a short list of 5-10 elementary functions\n",
    "\n",
    "4. What is the formal (equation) definition of the derivative? What does it describe?\n",
    "\n",
    "5. Calculate the limit derivative of $f(x) = x^{2}$. Show all steps.\n",
    "\n",
    "6. What is the second whole derivative with respect to x of $f(x) = sin^{2}(x)$? Show all steps and use the chain rule.\n",
    "\n"
   ]
  },
  {
   "cell_type": "markdown",
   "metadata": {},
   "source": [
    "v1 = 5*[1, -5, -1]\n",
    "v2 = -3sqrt(5)*[sqrt(3), -5, -3sqrt(4)]"
   ]
  },
  {
   "cell_type": "code",
   "execution_count": 1,
   "metadata": {
    "collapsed": true
   },
   "outputs": [],
   "source": [
    "import numpy as np"
   ]
  },
  {
   "cell_type": "markdown",
   "metadata": {},
   "source": [
    "#### Answer 2"
   ]
  },
  {
   "cell_type": "code",
   "execution_count": 11,
   "metadata": {
    "collapsed": false
   },
   "outputs": [
    {
     "name": "stdout",
     "output_type": "stream",
     "text": [
      "inner product\n",
      " [[ -174.28425058   503.11529494  -603.73835392]\n",
      " [  290.47375097  -838.52549156  1006.23058987]\n",
      " [   58.09475019  -167.70509831   201.24611797]]\n",
      "v1^T x v2\n",
      " [[ -174.28425058   290.47375097    58.09475019]\n",
      " [  503.11529494  -838.52549156  -167.70509831]\n",
      " [ -603.73835392  1006.23058987   201.24611797]]\n"
     ]
    }
   ],
   "source": [
    "v1 = np.asarray([[15], [-25], [-5]])\n",
    "v2 = np.asarray([[-3*np.sqrt(15)], [15*np.sqrt(5)], [-9*np.sqrt(20)]])\n",
    "print(\"inner product\\n\", v1.dot(v2.T))\n",
    "print(\"v1^T x v2\\n\", (v1.T) * (v2))"
   ]
  },
  {
   "cell_type": "markdown",
   "metadata": {},
   "source": [
    "#### answer 3\n",
    "\n",
    "$g(x) = 4x^2$\n",
    "\n",
    "$f(x) = e^x$\n",
    "\n",
    "$f \\circ g = e^{4x^2}$\n",
    "\n",
    "$f(x) = \\sqrt{x^2 + 1}$\n",
    "\n",
    "$g(x) = 2x + 1$"
   ]
  },
  {
   "cell_type": "markdown",
   "metadata": {},
   "source": [
    "#### answer 4\n",
    "\n",
    "$$f'(x) = \\lim_{\\Delta x \\rightarrow 0} \\frac{f(x + \\Delta x) - f(x)}{\\Delta x}$$\n",
    "\n",
    "It describes the slope of a function as we continue to approach a given value on that function."
   ]
  },
  {
   "cell_type": "markdown",
   "metadata": {},
   "source": [
    "#### answer 5\n",
    "\n",
    "$$f'(x) = 2x$$\n",
    "\n",
    "product rule"
   ]
  },
  {
   "cell_type": "code",
   "execution_count": null,
   "metadata": {
    "collapsed": true
   },
   "outputs": [],
   "source": []
  }
 ],
 "metadata": {
  "kernelspec": {
   "display_name": "Python 3",
   "language": "python",
   "name": "python3"
  },
  "language_info": {
   "codemirror_mode": {
    "name": "ipython",
    "version": 3
   },
   "file_extension": ".py",
   "mimetype": "text/x-python",
   "name": "python",
   "nbconvert_exporter": "python",
   "pygments_lexer": "ipython3",
   "version": "3.5.2"
  }
 },
 "nbformat": 4,
 "nbformat_minor": 0
}
