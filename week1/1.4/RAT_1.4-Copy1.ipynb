{
 "cells": [
  {
   "cell_type": "markdown",
   "metadata": {},
   "source": [
    "# RAT 1.4\n",
    "\n",
    "1. C, A and B are all matrices and $C = AB$. Suppose C is invertible. Write down an expression for $C^{-1}$ in terms of $A$ and $B$\n",
    "2. How does Gauss elimination differ from Gauss-Jordan elimination?"
   ]
  },
  {
   "cell_type": "code",
   "execution_count": 2,
   "metadata": {
    "collapsed": false
   },
   "outputs": [],
   "source": [
    "# C^-1 = (AB)^-1"
   ]
  },
  {
   "cell_type": "code",
   "execution_count": null,
   "metadata": {
    "collapsed": true
   },
   "outputs": [],
   "source": [
    "# Gauss elimination gets a matrix to row-eschelon form for the purpose of solving a system of\n",
    "# linear equations, easily find rank of a given matrix and find the Determinant of a matrix.\n",
    "# G-J elimination gets the matrix to reduced row-eschelon form. It's used to find the \n",
    "# inverse of a given matrix.\n"
   ]
  }
 ],
 "metadata": {
  "kernelspec": {
   "display_name": "Python 3",
   "language": "python",
   "name": "python3"
  },
  "language_info": {
   "codemirror_mode": {
    "name": "ipython",
    "version": 3
   },
   "file_extension": ".py",
   "mimetype": "text/x-python",
   "name": "python",
   "nbconvert_exporter": "python",
   "pygments_lexer": "ipython3",
   "version": "3.5.2"
  }
 },
 "nbformat": 4,
 "nbformat_minor": 0
}
