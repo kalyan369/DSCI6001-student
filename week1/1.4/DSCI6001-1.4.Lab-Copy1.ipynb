{
 "cells": [
  {
   "cell_type": "markdown",
   "metadata": {},
   "source": [
    "# DSCI6001 1.4.Lab (Graded)\n",
    "\n",
    "This will be a graded laboratory assignment of approximately 30 minutes.\n",
    "\n",
    "In yesterday's lecture you were assigned from Kreyszig 9th ed.\n",
    "\n",
    "#### Reading \n",
    "* 7.4, 7.5, 7.7\n",
    "\n",
    "#### Problems \n",
    "* 7.4: 1, 3, 7, 11, 15, 19, 27, 33, 35\n",
    "* 7.7: 5, 7, 11, 14, 19, 21\n",
    "\n",
    "If you have completed the above assigments, you may proceed with the lab.\n",
    "\n",
    "## Lab\n",
    "\n",
    "Solve using Python. Hint: search the numpy documentation.\n",
    "\n",
    "1. Write a Python function `randomat` that returns a random square numpy matrix of integers of given dimension n. The integers should be between -1 and 3. \n",
    "\n",
    "2. Create a list containing 50 `randomat` 3x3 matrices. Make a copy of the list, in the form of a Pandas `Series`. Hint: Solution provided below.\n",
    "\n",
    "3. Create a list of the the 50 *determinants* of the 50 matrices. Make a copy of the list, in the form of a Pandas `Series`.\n",
    "\n",
    "4.  Create a list of the the 50 *ranks* of the 50 matrices. Make a copy of the list, in the form of a Pandas `Series`.\n",
    "\n",
    "5. Extract two suitable matrices from your array into variables A and B, then write assertions to test the following Inversion Properties:\n",
    "\n",
    "    1. $({\\bf A}^{-1})^{-1} = {\\bf A}$\n",
    "    2. $({\\bf AB})^{-1} = {\\bf B}^{-1} {\\bf A}^{-1}$  Hint: Solution below\n",
    "    3. $|{\\bf AB}| = |{\\bf A}| ~ |{\\bf B}| = |{\\bf BA}|$\n",
    "    4. $|{\\bf A}^T| = |{\\bf A}|$\n",
    "    5. $|{\\bf A}^{-1}| = \\frac{1}{|{\\bf A}|}$\n",
    "    \n",
    "6. Exactly how many of your randomly generated matrices were unsuitable for exercise 5. What makes them unsuitable? \n"
   ]
  },
  {
   "cell_type": "code",
   "execution_count": 8,
   "metadata": {
    "collapsed": false
   },
   "outputs": [],
   "source": [
    "import pandas as pd\n",
    "import numpy as np\n",
    "\n",
    "def randomat(n):\n",
    "    return np.random.random_integers(-1, 3, (n, n))\n",
    "    \n",
    "\n",
    "# 2. You can use a for loop, or here is a solution using a list comprehension\n",
    "matrix_list = [randomat(3) for _ in range(50)]\n",
    "\n",
    "# Convert the list into a Series. Both forms have their uses.\n",
    "matrix_Series = pd.Series (matrix_list)\n"
   ]
  },
  {
   "cell_type": "code",
   "execution_count": 9,
   "metadata": {
    "collapsed": false,
    "scrolled": true
   },
   "outputs": [
    {
     "data": {
      "text/plain": [
       "array([[3, 1, 1],\n",
       "       [3, 0, 2],\n",
       "       [3, 0, 3]])"
      ]
     },
     "execution_count": 9,
     "metadata": {},
     "output_type": "execute_result"
    }
   ],
   "source": [
    "randomat(3)"
   ]
  },
  {
   "cell_type": "code",
   "execution_count": 10,
   "metadata": {
    "collapsed": false
   },
   "outputs": [],
   "source": [
    "matrix_Series = pd.Series ([randomat(3) for _ in range(50)])\n",
    "det_Series = pd.Series(np.linalg.det([_ for _ in matrix_Series]))\n",
    "rank_Series = pd.Series(np.linalg.matrix_rank(_) for _ in matrix_Series)"
   ]
  },
  {
   "cell_type": "code",
   "execution_count": 11,
   "metadata": {
    "collapsed": false
   },
   "outputs": [
    {
     "data": {
      "text/plain": [
       "0         [[0, 0, 1], [2, 1, -1], [1, 3, 0]]\n",
       "1         [[2, 1, 1], [-1, 2, 3], [1, 1, 1]]\n",
       "2       [[2, 1, -1], [0, 1, -1], [0, 3, -1]]\n",
       "3         [[0, -1, 0], [2, 0, 0], [3, 0, 3]]\n",
       "4        [[2, 2, 2], [2, -1, 2], [0, 0, -1]]\n",
       "5         [[2, 2, 0], [1, 3, 0], [0, -1, 3]]\n",
       "6        [[1, 3, -1], [0, 0, 0], [1, 2, -1]]\n",
       "7         [[3, -1, 2], [0, 0, 2], [2, 3, 0]]\n",
       "8         [[0, 1, -1], [2, 0, 0], [2, 0, 0]]\n",
       "9          [[0, 3, 1], [3, 0, 3], [1, 0, 3]]\n",
       "10      [[0, 2, -1], [2, -1, 1], [0, -1, 1]]\n",
       "11         [[1, 3, 0], [2, 3, 0], [2, 1, 2]]\n",
       "12       [[-1, 0, 1], [-1, 2, 1], [1, 2, 2]]\n",
       "13       [[-1, 3, 3], [-1, 1, 3], [2, 2, 3]]\n",
       "14        [[2, 3, 0], [1, -1, 3], [3, 3, 1]]\n",
       "15      [[2, 1, 3], [2, 3, -1], [3, -1, -1]]\n",
       "16      [[3, -1, -1], [2, 3, 3], [-1, 1, 3]]\n",
       "17      [[2, 2, -1], [-1, 2, 1], [2, 3, -1]]\n",
       "18        [[3, 2, 1], [1, 2, 1], [3, 2, -1]]\n",
       "19        [[1, 1, 2], [2, 0, -1], [1, 3, 2]]\n",
       "20        [[3, 0, -1], [1, 2, 1], [3, 2, 3]]\n",
       "21       [[1, 2, -1], [2, -1, 1], [0, 3, 0]]\n",
       "22         [[1, 0, 0], [3, 0, 0], [0, 3, 1]]\n",
       "23      [[-1, 1, 1], [1, -1, 2], [-1, 1, 3]]\n",
       "24        [[1, 0, 1], [0, 2, 0], [0, 3, -1]]\n",
       "25      [[0, 2, -1], [-1, 0, 1], [3, -1, 1]]\n",
       "26       [[0, 2, 2], [1, 1, -1], [1, -1, 3]]\n",
       "27       [[0, 1, -1], [-1, 1, 1], [2, 2, 3]]\n",
       "28       [[3, 1, -1], [-1, 3, 2], [3, 0, 2]]\n",
       "29         [[3, 1, 2], [3, 0, 0], [1, 2, 3]]\n",
       "30    [[-1, 3, -1], [3, -1, 1], [0, -1, -1]]\n",
       "31       [[2, 3, 2], [0, 2, 1], [-1, -1, 1]]\n",
       "32         [[0, 3, 3], [2, 2, 1], [0, 0, 1]]\n",
       "33      [[3, 2, -1], [1, -1, 3], [-1, 1, 2]]\n",
       "34         [[0, 3, 2], [2, 3, 3], [3, 1, 3]]\n",
       "35        [[3, 0, 3], [0, 3, -1], [3, 0, 2]]\n",
       "36        [[3, 3, 0], [-1, 3, 3], [1, 3, 0]]\n",
       "37       [[1, 3, 0], [1, 3, -1], [-1, 0, 3]]\n",
       "38         [[1, 3, 2], [1, 0, 3], [3, 2, 1]]\n",
       "39       [[0, 0, 3], [-1, -1, 2], [1, 2, 2]]\n",
       "40       [[3, 2, -1], [-1, 3, 3], [3, 2, 0]]\n",
       "41       [[0, 1, -1], [0, 0, 1], [2, 3, -1]]\n",
       "42      [[-1, 1, 2], [3, 1, -1], [-1, 2, 3]]\n",
       "43         [[3, 1, 1], [0, 3, 1], [0, 0, 2]]\n",
       "44       [[3, 1, 3], [3, -1, 0], [1, -1, 3]]\n",
       "45         [[3, 2, 1], [2, 1, 3], [2, 1, 0]]\n",
       "46       [[3, 3, -1], [1, 2, -1], [3, 2, 2]]\n",
       "47        [[0, 0, 1], [3, 0, -1], [2, 2, 1]]\n",
       "48        [[0, 3, 2], [3, 2, 0], [2, -1, 2]]\n",
       "49     [[-1, 0, 0], [0, 2, -1], [-1, -1, 0]]\n",
       "dtype: object"
      ]
     },
     "execution_count": 11,
     "metadata": {},
     "output_type": "execute_result"
    }
   ],
   "source": [
    "matrix_Series"
   ]
  },
  {
   "cell_type": "code",
   "execution_count": 12,
   "metadata": {
    "collapsed": false,
    "scrolled": true
   },
   "outputs": [
    {
     "data": {
      "text/plain": [
       "0      5.0\n",
       "1     -1.0\n",
       "2      4.0\n",
       "3      6.0\n",
       "4      6.0\n",
       "5     12.0\n",
       "6      0.0\n",
       "7    -22.0\n",
       "8      0.0\n",
       "9    -18.0\n",
       "10    -2.0\n",
       "11    -6.0\n",
       "12    -6.0\n",
       "13    18.0\n",
       "14     4.0\n",
       "15   -42.0\n",
       "16    22.0\n",
       "17    -1.0\n",
       "18    -8.0\n",
       "19    10.0\n",
       "20    16.0\n",
       "21    -9.0\n",
       "22     0.0\n",
       "23     0.0\n",
       "24    -2.0\n",
       "25     7.0\n",
       "26   -12.0\n",
       "27     9.0\n",
       "28    35.0\n",
       "29     3.0\n",
       "30    10.0\n",
       "31     7.0\n",
       "32    -6.0\n",
       "33   -25.0\n",
       "34    -5.0\n",
       "35    -9.0\n",
       "36   -18.0\n",
       "37     3.0\n",
       "38    22.0\n",
       "39    -3.0\n",
       "40    11.0\n",
       "41     2.0\n",
       "42     1.0\n",
       "43    18.0\n",
       "44   -24.0\n",
       "45     3.0\n",
       "46     7.0\n",
       "47     6.0\n",
       "48   -32.0\n",
       "49     1.0\n",
       "dtype: float64"
      ]
     },
     "execution_count": 12,
     "metadata": {},
     "output_type": "execute_result"
    }
   ],
   "source": [
    "det_Series"
   ]
  },
  {
   "cell_type": "code",
   "execution_count": 13,
   "metadata": {
    "collapsed": false
   },
   "outputs": [
    {
     "data": {
      "text/plain": [
       "0     3\n",
       "1     3\n",
       "2     3\n",
       "3     3\n",
       "4     3\n",
       "5     3\n",
       "6     2\n",
       "7     3\n",
       "8     2\n",
       "9     3\n",
       "10    3\n",
       "11    3\n",
       "12    3\n",
       "13    3\n",
       "14    3\n",
       "15    3\n",
       "16    3\n",
       "17    3\n",
       "18    3\n",
       "19    3\n",
       "20    3\n",
       "21    3\n",
       "22    2\n",
       "23    2\n",
       "24    3\n",
       "25    3\n",
       "26    3\n",
       "27    3\n",
       "28    3\n",
       "29    3\n",
       "30    3\n",
       "31    3\n",
       "32    3\n",
       "33    3\n",
       "34    3\n",
       "35    3\n",
       "36    3\n",
       "37    3\n",
       "38    3\n",
       "39    3\n",
       "40    3\n",
       "41    3\n",
       "42    3\n",
       "43    3\n",
       "44    3\n",
       "45    3\n",
       "46    3\n",
       "47    3\n",
       "48    3\n",
       "49    3\n",
       "dtype: int64"
      ]
     },
     "execution_count": 13,
     "metadata": {},
     "output_type": "execute_result"
    }
   ],
   "source": [
    "rank_Series"
   ]
  },
  {
   "cell_type": "code",
   "execution_count": 84,
   "metadata": {
    "collapsed": false
   },
   "outputs": [
    {
     "data": {
      "text/plain": [
       "(array([ 0,  1,  2,  3,  4,  5,  7,  9, 10, 11, 12, 13, 14, 15, 16, 17, 18,\n",
       "        19, 20, 21, 24, 25, 26, 27, 28, 29, 30, 31, 32, 33, 34, 35, 36, 37,\n",
       "        38, 39, 40, 41, 42, 43, 44, 45, 46, 47, 48, 49]),)"
      ]
     },
     "execution_count": 84,
     "metadata": {},
     "output_type": "execute_result"
    }
   ],
   "source": [
    "nz = np.nonzero(det_Series)\n",
    "nz"
   ]
  },
  {
   "cell_type": "code",
   "execution_count": 91,
   "metadata": {
    "collapsed": false,
    "scrolled": true
   },
   "outputs": [
    {
     "data": {
      "text/plain": [
       "array([array([[-1,  0,  0],\n",
       "       [ 0,  2, -1],\n",
       "       [-1, -1,  0]]),\n",
       "       array([[ 0,  0,  3],\n",
       "       [-1, -1,  2],\n",
       "       [ 1,  2,  2]])], dtype=object)"
      ]
     },
     "execution_count": 91,
     "metadata": {},
     "output_type": "execute_result"
    }
   ],
   "source": [
    "AB = np.random.choice(matrix_Series[pd.Series(np.nonzero(det_Series))[0]], 2)\n",
    "AB"
   ]
  },
  {
   "cell_type": "code",
   "execution_count": 92,
   "metadata": {
    "collapsed": false,
    "scrolled": true
   },
   "outputs": [],
   "source": [
    "A = AB[0]\n",
    "B = AB[1]\n",
    "Ainv = np.linalg.inv(A)\n",
    "Binv = np.linalg.inv(B)\n",
    "Adet = np.linalg.det(A)\n",
    "Bdet = np.linalg.det(B)"
   ]
  },
  {
   "cell_type": "code",
   "execution_count": null,
   "metadata": {
    "collapsed": true
   },
   "outputs": [],
   "source": [
    "# (A−1)−1=A\n",
    "# (AB)−1=B−1A−1 Hint: Solution below\n",
    "# |AB|=|A| |B|=|BA|\n",
    "# |AT|=|A|\n",
    "# |A−1|=1|A|"
   ]
  },
  {
   "cell_type": "code",
   "execution_count": 93,
   "metadata": {
    "collapsed": false,
    "scrolled": true
   },
   "outputs": [],
   "source": [
    "#(A^−1)^−1=A\n",
    "assert np.array_equal(np.rint(np.linalg.inv(Ainv)), A)"
   ]
  },
  {
   "cell_type": "code",
   "execution_count": 94,
   "metadata": {
    "collapsed": false
   },
   "outputs": [],
   "source": [
    "#(AB)^−1=B^−1A^−1\n",
    "from numpy.linalg import det, inv\n",
    "from numpy import allclose\n",
    "assert np.allclose(inv(A.dot(B)), Binv.dot(Ainv))"
   ]
  },
  {
   "cell_type": "code",
   "execution_count": 104,
   "metadata": {
    "collapsed": false,
    "scrolled": true
   },
   "outputs": [],
   "source": [
    "#|AB|=|A||B|=|BA|\n",
    "assert np.round(np.linalg.det(A.dot(B))) == int(Adet)*int(Bdet) == np.round(np.linalg.det(B.dot(A)))"
   ]
  },
  {
   "cell_type": "code",
   "execution_count": 105,
   "metadata": {
    "collapsed": true
   },
   "outputs": [],
   "source": [
    "#|AT|=|A|\n",
    "assert np.linalg.det(A.T) == Adet"
   ]
  },
  {
   "cell_type": "code",
   "execution_count": 106,
   "metadata": {
    "collapsed": false
   },
   "outputs": [],
   "source": [
    "#|A−1|=1/|A|\n",
    "assert np.round(np.linalg.det(Ainv), 2) == (1 / Adet)"
   ]
  },
  {
   "cell_type": "code",
   "execution_count": 107,
   "metadata": {
    "collapsed": false
   },
   "outputs": [
    {
     "name": "stdout",
     "output_type": "stream",
     "text": [
      "Exactly 4 were unsuitable.\n",
      "This is because their Determinant was equal to 0, which by definition,\n",
      "makes them infinite/no solution and uninvertible\n"
     ]
    }
   ],
   "source": [
    "unsuitable_for_exercise5 = len(det_Series) - np.count_nonzero(det_Series)\n",
    "print(\"Exactly\", unsuitable_for_exercise5, \"were unsuitable.\")\n",
    "print(\"This is because their Determinant was equal to 0, which by definition,\\nmakes them infinite/no solution and uninvertible\")"
   ]
  },
  {
   "cell_type": "code",
   "execution_count": null,
   "metadata": {
    "collapsed": true
   },
   "outputs": [],
   "source": []
  }
 ],
 "metadata": {
  "kernelspec": {
   "display_name": "Python 3",
   "language": "python",
   "name": "python3"
  },
  "language_info": {
   "codemirror_mode": {
    "name": "ipython",
    "version": 3
   },
   "file_extension": ".py",
   "mimetype": "text/x-python",
   "name": "python",
   "nbconvert_exporter": "python",
   "pygments_lexer": "ipython3",
   "version": "3.5.2"
  }
 },
 "nbformat": 4,
 "nbformat_minor": 0
}
