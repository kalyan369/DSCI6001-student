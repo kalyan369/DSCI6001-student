{
 "cells": [
  {
   "cell_type": "markdown",
   "metadata": {},
   "source": [
    "# DSCI6001 1.2 Lab (Graded)\n",
    "\n",
    "This will be a graded laboratory assignment. "
   ]
  },
  {
   "cell_type": "code",
   "execution_count": 13,
   "metadata": {
    "collapsed": false
   },
   "outputs": [],
   "source": [
    "A = [[3, 0, 4], [-1, 2, 2], [6, 5, -4]]\n",
    "B = [[0, -5, -3], [-5, 2, 4], [-3, 4, 0]]\n",
    "C = [[0, 2], [2, 4], [1, 3]]\n",
    "D = [[6, 1], [-4, 7], [-8, 3]]\n",
    "u = [2, 0, 1]\n",
    "v = [-4, 9, 2]"
   ]
  },
  {
   "cell_type": "markdown",
   "metadata": {},
   "source": [
    "#### 1) Use Numpy to create and store the matrices $A, B, C, D$ and vectors $u, v$.\n",
    "\n",
    "$$\n",
    "{\\bf A}=\n",
    "\\begin{bmatrix}\n",
    "3 & 0 & 4 \\\\\n",
    "-1 & 2 & 2 \\\\\n",
    "6 & 5 & -4\n",
    "\\end{bmatrix},\\quad\n",
    "{\\bf B}=\n",
    "\\begin{bmatrix}\n",
    "0 & -5 & -3 \\\\\n",
    "-5 & 2 & 4 \\\\\n",
    "-3 & 4 & 0\n",
    "\\end{bmatrix},\\quad\n",
    "{\\bf C}=\n",
    "\\begin{bmatrix}\n",
    "0 & 2 \\\\\n",
    "2 & 4 \\\\\n",
    "1 & 3\n",
    "\\end{bmatrix},\\quad\n",
    "{\\bf D}=\n",
    "\\begin{bmatrix}\n",
    "6 & 1 \\\\\n",
    "-4 & 7 \\\\\n",
    "-8 & 3\n",
    "\\end{bmatrix}\n",
    "$$\n",
    "\n",
    "$$\n",
    "\\textbf{u}=\n",
    "\\begin{bmatrix}\n",
    "2 \\\\\n",
    "0 \\\\\n",
    "1\n",
    "\\end{bmatrix},\\quad\n",
    "\\textbf{v}=\n",
    "\\begin{bmatrix}\n",
    "-4 \\\\\n",
    "9 \\\\\n",
    "2\n",
    "\\end{bmatrix}\n",
    "$$"
   ]
  },
  {
   "cell_type": "code",
   "execution_count": 71,
   "metadata": {
    "collapsed": false
   },
   "outputs": [],
   "source": [
    "import numpy as np\n",
    "A = np.asarray(A)\n",
    "B = np.asarray(B)\n",
    "C = np.asarray(C)\n",
    "D = np.asarray(D)\n",
    "u = np.asarray(u).reshape(3, 1)\n",
    "v = np.asarray(v).reshape(3, 1)"
   ]
  },
  {
   "cell_type": "markdown",
   "metadata": {},
   "source": [
    "#### 2) Use Python to determine their dimensions."
   ]
  },
  {
   "cell_type": "code",
   "execution_count": 72,
   "metadata": {
    "collapsed": false
   },
   "outputs": [
    {
     "name": "stdout",
     "output_type": "stream",
     "text": [
      "A Dimensions:  (3, 3)\n",
      "B Dimensions:  (3, 3)\n",
      "C Dimensions:  (3, 2)\n",
      "D Dimensions:  (3, 2)\n",
      "u Dimensions:  (3, 1)\n",
      "v Dimensions:  (3, 1)\n"
     ]
    }
   ],
   "source": [
    "Adim = A.shape\n",
    "Bdim = B.shape\n",
    "Cdim = C.shape\n",
    "Ddim = D.shape\n",
    "udim = u.shape\n",
    "vdim = v.shape\n",
    "print(\"A Dimensions: \", Adim)\n",
    "print(\"B Dimensions: \", Bdim)\n",
    "print(\"C Dimensions: \", Cdim)\n",
    "print(\"D Dimensions: \", Ddim)\n",
    "print(\"u Dimensions: \", udim)\n",
    "print(\"v Dimensions: \", vdim)"
   ]
  },
  {
   "cell_type": "markdown",
   "metadata": {},
   "source": [
    "#### 3) Calculate:\n",
    "* $4C+2D$\n",
    "* $2(A+B)$\n",
    "* $u-v$"
   ]
  },
  {
   "cell_type": "code",
   "execution_count": 73,
   "metadata": {
    "collapsed": false,
    "scrolled": true
   },
   "outputs": [
    {
     "name": "stdout",
     "output_type": "stream",
     "text": [
      "Number 1: \n",
      " [[ 12  10]\n",
      " [  0  30]\n",
      " [-12  18]]\n",
      "Number 2: \n",
      " [[  6 -10   2]\n",
      " [-12   8  12]\n",
      " [  6  18  -8]]\n",
      "Number 3: \n",
      " [[ 6]\n",
      " [-9]\n",
      " [-1]]\n"
     ]
    }
   ],
   "source": [
    "one = 4*C + 2*D\n",
    "two = 2*(A + B)\n",
    "three = u - v\n",
    "print(\"Number 1: \\n\",one)\n",
    "print(\"Number 2: \\n\", two)\n",
    "print(\"Number 3: \\n\", three)"
   ]
  },
  {
   "cell_type": "markdown",
   "metadata": {},
   "source": [
    "#### 4) Does $(\\textit{A}\\textit{B})^{T}$ = $\\textit{B}^{T}\\textit{A}^{T}$? Produce an assertion that checks for this."
   ]
  },
  {
   "cell_type": "code",
   "execution_count": 65,
   "metadata": {
    "collapsed": false,
    "scrolled": true
   },
   "outputs": [],
   "source": [
    "assert np.array_equal(np.transpose(A*B), np.multiply(B.T, A.T))"
   ]
  },
  {
   "cell_type": "markdown",
   "metadata": {
    "collapsed": true
   },
   "source": [
    "#### 5) Solve the linear system below by hand, then check your answers in Python using [numpy.linalg.solve](https://docs.scipy.org/doc/numpy-1.10.1/reference/generated/numpy.linalg.solve.html).\n",
    "\n",
    "$$\n",
    "\\begin{align}\n",
    "x + y + 2z & = 3 \\\\\n",
    "3x + 4y + 8z & = 10 \\\\\n",
    "-2x + 2y + z & = 7\n",
    "\\end{align}\n",
    "$$\n"
   ]
  },
  {
   "cell_type": "code",
   "execution_count": 79,
   "metadata": {
    "collapsed": false
   },
   "outputs": [
    {
     "data": {
      "text/plain": [
       "array([[ 2.],\n",
       "       [ 7.],\n",
       "       [-3.]])"
      ]
     },
     "execution_count": 79,
     "metadata": {},
     "output_type": "execute_result"
    }
   ],
   "source": [
    "Alpha = [[1, 1, 2], [3, 4, 8], [-2, 2, 1]]\n",
    "Beta = [3, 10, 7]\n",
    "np.linalg.solve(Alpha, Beta).reshape(3, 1)"
   ]
  }
 ],
 "metadata": {
  "anaconda-cloud": {},
  "kernelspec": {
   "display_name": "Python 3",
   "language": "python",
   "name": "python3"
  },
  "language_info": {
   "codemirror_mode": {
    "name": "ipython",
    "version": 3
   },
   "file_extension": ".py",
   "mimetype": "text/x-python",
   "name": "python",
   "nbconvert_exporter": "python",
   "pygments_lexer": "ipython3",
   "version": "3.5.2"
  }
 },
 "nbformat": 4,
 "nbformat_minor": 0
}
