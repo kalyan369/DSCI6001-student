{
 "cells": [
  {
   "cell_type": "markdown",
   "metadata": {},
   "source": [
    "# DSCI6001 1.3 Lab (Graded)\n",
    "\n",
    "This will be a graded laboratory assignment. It should take approximately 60 minutes. If needed you can turn it in the next day."
   ]
  },
  {
   "cell_type": "markdown",
   "metadata": {},
   "source": [
    "For questions **1) - 3)**, we will work with the following matrix.   \n",
    "\n",
    "$${\\bf A} = \\begin{bmatrix}\n",
    "    2 & 2 & 7 \\\\\n",
    "    3 & 4 & 1 \\\\\n",
    "    5 & 6 & 2 \\\\\n",
    "\\end{bmatrix}$$"
   ]
  },
  {
   "cell_type": "markdown",
   "metadata": {},
   "source": [
    "**1) Matrix rank**  \n",
    "\n",
    "Use Gauss elimination to produce the row echelon form of Matrix $\\mathbf{A}$. What is the rank of $\\mathbf{A}$? Use [numpy.linalg.matrix_rank](https://docs.scipy.org/doc/numpy/reference/generated/numpy.linalg.matrix_rank.html) to check your answer."
   ]
  },
  {
   "cell_type": "code",
   "execution_count": 9,
   "metadata": {
    "collapsed": false
   },
   "outputs": [
    {
     "name": "stdout",
     "output_type": "stream",
     "text": [
      "[[ 1.   1.   3.5]\n",
      " [ 0.   1.  -9.5]\n",
      " [ 0.   0.  -6. ]]\n",
      "Rank = 3\n"
     ]
    }
   ],
   "source": [
    "roweschA = np.array([[1, 1, (7/2)], [0, 1, (-19/2)], [0, 0, -6]])\n",
    "print(roweschA)\n",
    "print(\"Rank = 3\")"
   ]
  },
  {
   "cell_type": "code",
   "execution_count": 2,
   "metadata": {
    "collapsed": false,
    "scrolled": true
   },
   "outputs": [
    {
     "data": {
      "text/plain": [
       "3"
      ]
     },
     "execution_count": 2,
     "metadata": {},
     "output_type": "execute_result"
    }
   ],
   "source": [
    "import numpy as np\n",
    "A = [[2, 2, 7], [3, 4, 1], [5, 6, 2]]\n",
    "np.linalg.matrix_rank(A)"
   ]
  },
  {
   "cell_type": "markdown",
   "metadata": {},
   "source": [
    "**2) Determinant**  \n",
    "\n",
    "Calculate the determinant of $\\mathbf{A}$ by hand, then use [numpy.linalg.det](https://docs.scipy.org/doc/numpy-1.10.1/reference/generated/numpy.linalg.det.html) to check your answer."
   ]
  },
  {
   "cell_type": "code",
   "execution_count": 14,
   "metadata": {
    "collapsed": false
   },
   "outputs": [
    {
     "data": {
      "text/plain": [
       "-11.999999999999979"
      ]
     },
     "execution_count": 14,
     "metadata": {},
     "output_type": "execute_result"
    }
   ],
   "source": [
    "np.linalg.det(A)"
   ]
  },
  {
   "cell_type": "markdown",
   "metadata": {},
   "source": [
    "**3) Matrix inversion**  \n",
    "\n",
    "Is matrix $\\mathbf{A}$ invertible? If so, use [numpy.linalg.inv](https://docs.scipy.org/doc/numpy/reference/generated/numpy.linalg.inv.html) to find its inverse."
   ]
  },
  {
   "cell_type": "code",
   "execution_count": 15,
   "metadata": {
    "collapsed": true
   },
   "outputs": [],
   "source": [
    "#yes, it is invertible because Det(A) != 0"
   ]
  },
  {
   "cell_type": "code",
   "execution_count": 16,
   "metadata": {
    "collapsed": false
   },
   "outputs": [
    {
     "data": {
      "text/plain": [
       "array([[-0.16666667, -3.16666667,  2.16666667],\n",
       "       [ 0.08333333,  2.58333333, -1.58333333],\n",
       "       [ 0.16666667,  0.16666667, -0.16666667]])"
      ]
     },
     "execution_count": 16,
     "metadata": {},
     "output_type": "execute_result"
    }
   ],
   "source": [
    "np.linalg.inv(A)"
   ]
  },
  {
   "cell_type": "markdown",
   "metadata": {},
   "source": [
    "**4) Programming practice**  \n",
    "\n",
    "In yesterday's lecture you were assigned to solve the following problems from the textbook:\n",
    "\n",
    "Problem Set 7.3: 1, 3, 5, 7, 11, 13.\n",
    "\n",
    "1. Create Numpy arrays to represent the 6 linear systems you solved by hand yesterday in Problem Set 7.3. \n",
    "\n",
    "2. Solve all 6 systems using Numpy. \n",
    "\n",
    "Extra Credit: Store your linear systems as follows: a list of the arrays of the 6 coeffiecient matrices, and a second list, of the dependent parameters (vector $\\mathbf{b}$ from the notes) of each system. Zip these two lists together. Build a loop to process these arrays, built around the following code snippet. Add code to print the solutions more elegantly. Add code to handle exceptions gracefully. "
   ]
  },
  {
   "cell_type": "code",
   "execution_count": 7,
   "metadata": {
    "collapsed": false,
    "scrolled": true
   },
   "outputs": [
    {
     "data": {
      "text/plain": [
       "array([ 4.,  0., -2.])"
      ]
     },
     "execution_count": 7,
     "metadata": {},
     "output_type": "execute_result"
    }
   ],
   "source": [
    "onea = np.array([[5, 2], [-1, 4]])\n",
    "oneb = np.array([[20.9], [-19.3]])\n",
    "threea = np.array([[.5, 3.5], [-1,  5]])\n",
    "threeb = np.array([5.7, 7.8])\n",
    "fivea = np.array([[.8, 1.2, -.6], [2.6, 0, 1.7], [4, -7.3, -1.5]])\n",
    "fiveb = np.array([-7.8, 15.3, 1.1])\n",
    "sevena = np.array([[0, 1, 1], [0, 4, 6], [1, 1, 1]])\n",
    "sevenb = np.array([-2, -12, 2])\n",
    "elevena = np.array([[2, -1, 3], [-4, 2, -6]])\n",
    "elevenb = np.array([1, 2])\n",
    "thirteena = np.array([[0, 1, 1, -2], [-4, -1, -1, 2], [2, -4, 3, -1]])\n",
    "thirteenb = np.array([0, -4, 3])\n",
    "\n",
    "np.linalg.solve(onea, oneb)\n",
    "np.linalg.solve(threea, threeb)\n",
    "np.linalg.solve(fivea, fiveb)\n",
    "np.linalg.solve(sevena, sevenb)\n",
    "#np.linalg.solve(elevena, elevenb)\n",
    "#np.linalg.solve(thirteena, thirteenb)"
   ]
  },
  {
   "cell_type": "code",
   "execution_count": null,
   "metadata": {
    "collapsed": true
   },
   "outputs": [],
   "source": [
    "for n, (a1, b1) in enumerate(zip(a, b)):\n",
    "    pass\n"
   ]
  }
 ],
 "metadata": {
  "anaconda-cloud": {},
  "kernelspec": {
   "display_name": "Python 3",
   "language": "python",
   "name": "python3"
  },
  "language_info": {
   "codemirror_mode": {
    "name": "ipython",
    "version": 3
   },
   "file_extension": ".py",
   "mimetype": "text/x-python",
   "name": "python",
   "nbconvert_exporter": "python",
   "pygments_lexer": "ipython3",
   "version": "3.5.2"
  }
 },
 "nbformat": 4,
 "nbformat_minor": 0
}
