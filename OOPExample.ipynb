{
 "cells": [
  {
   "cell_type": "markdown",
   "metadata": {},
   "source": [
    "## Quick OOP Review/Example\n",
    "\n",
    "Here's a quick example of a class for those who are still trying to wrap their heads around the OOP framework.\n",
    "\n",
    "Terminology:<br>\n",
    "These will be a little fuzzy for now, but hopefully make more sense after the example.<br>\n",
    "**Class** - This is the thing you're writing. You'll hear it described as a template/framework for something that you want to make.<br>\n",
    "**Instance** - Once you have your class, you make an instance of it to actually do stuff with it.<br>\n",
    "**Attribute** - These are essentially variables that are bound to your class. Generally take the form self.blah and can be passed around within your class freely. They are \"global\" within the class.<br>\n",
    "**Method** - Functions that exist in your class. "
   ]
  },
  {
   "cell_type": "markdown",
   "metadata": {},
   "source": [
    "For the example, we're going to make the class BasketballTeam(), here's some rough code."
   ]
  },
  {
   "cell_type": "code",
   "execution_count": 1,
   "metadata": {
    "collapsed": true
   },
   "outputs": [],
   "source": [
    "class BasketballTeam():\n",
    "    \n",
    "    def __init__(self, name):\n",
    "        self.team_name = name\n",
    "        self.roster = []\n",
    "        self.coach = None"
   ]
  },
  {
   "cell_type": "markdown",
   "metadata": {},
   "source": [
    "This is our rough class blueprint. We we initialize the BasketballTeam class later, we have to give it a teamname. This team name gets stored in the `self.team_name` **attribute**. Notice, even thought we aren't filling them yet, we also create **attributes** called `roster` and `coach` that default to an empty list/None respectively.\n",
    "\n",
    "This is enough to get us started. Let's make the Warriors. Notice, if we don't give it a name, it complains. If you have any arguments other than `self` in the `__init__`, you are required to provide them when you instantiate the class (self automatically gets passed)."
   ]
  },
  {
   "cell_type": "code",
   "execution_count": 2,
   "metadata": {
    "collapsed": false
   },
   "outputs": [
    {
     "ename": "TypeError",
     "evalue": "__init__() takes exactly 2 arguments (1 given)",
     "output_type": "error",
     "traceback": [
      "\u001b[0;31m---------------------------------------------------------------------------\u001b[0m",
      "\u001b[0;31mTypeError\u001b[0m                                 Traceback (most recent call last)",
      "\u001b[0;32m<ipython-input-2-205230a10024>\u001b[0m in \u001b[0;36m<module>\u001b[0;34m()\u001b[0m\n\u001b[0;32m----> 1\u001b[0;31m \u001b[0mteam1\u001b[0m \u001b[0;34m=\u001b[0m \u001b[0mBasketballTeam\u001b[0m\u001b[0;34m(\u001b[0m\u001b[0;34m)\u001b[0m\u001b[0;34m\u001b[0m\u001b[0m\n\u001b[0m",
      "\u001b[0;31mTypeError\u001b[0m: __init__() takes exactly 2 arguments (1 given)"
     ]
    }
   ],
   "source": [
    "team1 = BasketballTeam()"
   ]
  },
  {
   "cell_type": "code",
   "execution_count": 3,
   "metadata": {
    "collapsed": true
   },
   "outputs": [],
   "source": [
    "team1 = BasketballTeam(\"Golden State Warriors\")"
   ]
  },
  {
   "cell_type": "markdown",
   "metadata": {},
   "source": [
    "Using our terms from above, `team1` is now a **instance** of the `BasketballTeam` class. One that describes the Golden State Warriors.\n",
    "\n",
    "Let's check our **attributes** from above: `team_name`, `roster`, `coach`."
   ]
  },
  {
   "cell_type": "code",
   "execution_count": 4,
   "metadata": {
    "collapsed": false
   },
   "outputs": [
    {
     "name": "stdout",
     "output_type": "stream",
     "text": [
      "---Team Name---\n",
      "Golden State Warriors\n",
      "---Roster---\n",
      "[]\n",
      "---Coach---\n",
      "None\n"
     ]
    }
   ],
   "source": [
    "print \"---Team Name---\"\n",
    "print team1.team_name\n",
    "print \"---Roster---\"\n",
    "print team1.roster\n",
    "print \"---Coach---\"\n",
    "print team1.coach"
   ]
  },
  {
   "cell_type": "markdown",
   "metadata": {},
   "source": [
    "Notice, `roster` and `coach` are empty lists just like from above. First lets just add a coach in. You can directly access **attributes** of your instance if you want."
   ]
  },
  {
   "cell_type": "code",
   "execution_count": 5,
   "metadata": {
    "collapsed": true
   },
   "outputs": [],
   "source": [
    "team1.coach = \"Steve Kerr\""
   ]
  },
  {
   "cell_type": "code",
   "execution_count": 6,
   "metadata": {
    "collapsed": false
   },
   "outputs": [
    {
     "name": "stdout",
     "output_type": "stream",
     "text": [
      "Steve Kerr\n"
     ]
    }
   ],
   "source": [
    "print team1.coach"
   ]
  },
  {
   "cell_type": "markdown",
   "metadata": {},
   "source": [
    "However, lets modify our class to make it a little fancier by adding methods."
   ]
  },
  {
   "cell_type": "code",
   "execution_count": 7,
   "metadata": {
    "collapsed": true
   },
   "outputs": [],
   "source": [
    "class BasketballTeam():\n",
    "    \n",
    "    #Requires a name to instantiate\n",
    "    #Creates team_name, roster, coach attributes\n",
    "    def __init__(self, name):\n",
    "        self.team_name = name\n",
    "        self.roster = []\n",
    "        self.coach = None\n",
    "        \n",
    "    #Changes the coaches name\n",
    "    def change_coach(self, coach_name):\n",
    "        self.coach = coach_name\n",
    "        print \"{} added as coach.\".format(coach_name)\n",
    "    \n",
    "    #Checks to see if player_name already in roster, if not, adds it to the roster attribute\n",
    "    def add_player(self, player_name):\n",
    "        if not player_name in self.roster:\n",
    "            self.roster.append(player_name)\n",
    "            print \"{} added to the roster.\".format(player_name)\n",
    "        else:\n",
    "            print \"Player already on roster.\"\n",
    "            "
   ]
  },
  {
   "cell_type": "markdown",
   "metadata": {},
   "source": [
    "Now lets reinstantiate our class, and check that everything is the same as above."
   ]
  },
  {
   "cell_type": "code",
   "execution_count": 8,
   "metadata": {
    "collapsed": true
   },
   "outputs": [],
   "source": [
    "team1 = BasketballTeam(\"Golden State Warriors\")"
   ]
  },
  {
   "cell_type": "code",
   "execution_count": 9,
   "metadata": {
    "collapsed": false
   },
   "outputs": [
    {
     "name": "stdout",
     "output_type": "stream",
     "text": [
      "---Team Name---\n",
      "Golden State Warriors\n",
      "---Roster---\n",
      "[]\n",
      "---Coach---\n",
      "None\n"
     ]
    }
   ],
   "source": [
    "print \"---Team Name---\"\n",
    "print team1.team_name\n",
    "print \"---Roster---\"\n",
    "print team1.roster\n",
    "print \"---Coach---\"\n",
    "print team1.coach"
   ]
  },
  {
   "cell_type": "markdown",
   "metadata": {},
   "source": [
    "Now we can add a coach and players as we see fit. Lets add the coach and the starting 5. "
   ]
  },
  {
   "cell_type": "code",
   "execution_count": 10,
   "metadata": {
    "collapsed": false
   },
   "outputs": [
    {
     "name": "stdout",
     "output_type": "stream",
     "text": [
      "Steve Kerr added as coach.\n"
     ]
    }
   ],
   "source": [
    "team1.change_coach(\"Steve Kerr\")"
   ]
  },
  {
   "cell_type": "code",
   "execution_count": 11,
   "metadata": {
    "collapsed": false
   },
   "outputs": [
    {
     "name": "stdout",
     "output_type": "stream",
     "text": [
      "Steph Curry added to the roster.\n",
      "Klay Thompson added to the roster.\n",
      "Kevin Durant added to the roster.\n",
      "Draymond Green added to the roster.\n",
      "Zaza Pachulia added to the roster.\n",
      "Player already on roster.\n"
     ]
    }
   ],
   "source": [
    "team1.add_player(\"Steph Curry\")\n",
    "team1.add_player(\"Klay Thompson\")\n",
    "team1.add_player(\"Kevin Durant\")\n",
    "team1.add_player(\"Draymond Green\")\n",
    "team1.add_player(\"Zaza Pachulia\")\n",
    "team1.add_player(\"Steph Curry\")"
   ]
  },
  {
   "cell_type": "code",
   "execution_count": 12,
   "metadata": {
    "collapsed": false
   },
   "outputs": [
    {
     "name": "stdout",
     "output_type": "stream",
     "text": [
      "---Team Name---\n",
      "Golden State Warriors\n",
      "---Roster---\n",
      "['Steph Curry', 'Klay Thompson', 'Kevin Durant', 'Draymond Green', 'Zaza Pachulia']\n",
      "---Coach---\n",
      "Steve Kerr\n"
     ]
    }
   ],
   "source": [
    "print \"---Team Name---\"\n",
    "print team1.team_name\n",
    "print \"---Roster---\"\n",
    "print team1.roster\n",
    "print \"---Coach---\"\n",
    "print team1.coach"
   ]
  },
  {
   "cell_type": "markdown",
   "metadata": {},
   "source": [
    "Looks good. Quick recap so far:  \n",
    "**Class** - `BasketballTeam()`<br>\n",
    "**Instance** - `team1`<br>\n",
    "**Attributes** - `name`, `roster`, `coach`<br>\n",
    "**Methods** - `change_coach`, `add_player`<br>\n",
    "\n",
    "Let's add something else in, lets sort our playes alphabetically. First we'll do it the easy way."
   ]
  },
  {
   "cell_type": "code",
   "execution_count": 13,
   "metadata": {
    "collapsed": true
   },
   "outputs": [],
   "source": [
    "class BasketballTeam():\n",
    "    \n",
    "    #Requires a name to instantiate\n",
    "    #Creates team_name, roster, coach attributes\n",
    "    def __init__(self, name):\n",
    "        self.team_name = name\n",
    "        self.roster = []\n",
    "        self.coach = None\n",
    "        \n",
    "    #Changes the coaches name\n",
    "    def change_coach(self, coach_name):\n",
    "        self.coach = coach_name\n",
    "        print \"{} added as coach.\".format(coach_name)\n",
    "    \n",
    "    #Checks to see if player_name already in roster, if not, adds it to the roster attribute\n",
    "    def add_player(self, player_name):\n",
    "        if not player_name in self.roster:\n",
    "            self.roster.append(player_name)\n",
    "            print \"{} added to the roster.\".format(player_name)\n",
    "        else:\n",
    "            print \"Player already on roster.\"\n",
    "    \n",
    "    def sort_roster(self):\n",
    "        self.roster = sorted(self.roster)\n",
    "        print \"Roster sorted.\""
   ]
  },
  {
   "cell_type": "markdown",
   "metadata": {},
   "source": [
    "Let's test it using the same code from above."
   ]
  },
  {
   "cell_type": "code",
   "execution_count": 14,
   "metadata": {
    "collapsed": false
   },
   "outputs": [
    {
     "name": "stdout",
     "output_type": "stream",
     "text": [
      "Steve Kerr added as coach.\n",
      "Steph Curry added to the roster.\n",
      "Klay Thompson added to the roster.\n",
      "Kevin Durant added to the roster.\n",
      "Draymond Green added to the roster.\n",
      "Zaza Pachulia added to the roster.\n",
      "---Team Name---\n",
      "Golden State Warriors\n",
      "---Roster---\n",
      "['Steph Curry', 'Klay Thompson', 'Kevin Durant', 'Draymond Green', 'Zaza Pachulia']\n",
      "---Coach---\n",
      "Steve Kerr\n"
     ]
    }
   ],
   "source": [
    "team1 = BasketballTeam(\"Golden State Warriors\")\n",
    "\n",
    "team1.change_coach(\"Steve Kerr\")\n",
    "\n",
    "team1.add_player(\"Steph Curry\")\n",
    "team1.add_player(\"Klay Thompson\")\n",
    "team1.add_player(\"Kevin Durant\")\n",
    "team1.add_player(\"Draymond Green\")\n",
    "team1.add_player(\"Zaza Pachulia\")\n",
    "\n",
    "print \"---Team Name---\"\n",
    "print team1.team_name\n",
    "print \"---Roster---\"\n",
    "print team1.roster\n",
    "print \"---Coach---\"\n",
    "print team1.coach"
   ]
  },
  {
   "cell_type": "code",
   "execution_count": 15,
   "metadata": {
    "collapsed": false
   },
   "outputs": [
    {
     "name": "stdout",
     "output_type": "stream",
     "text": [
      "Roster sorted.\n"
     ]
    }
   ],
   "source": [
    "team1.sort_roster()"
   ]
  },
  {
   "cell_type": "code",
   "execution_count": 16,
   "metadata": {
    "collapsed": false
   },
   "outputs": [
    {
     "name": "stdout",
     "output_type": "stream",
     "text": [
      "---Team Name---\n",
      "Golden State Warriors\n",
      "---Roster---\n",
      "['Draymond Green', 'Kevin Durant', 'Klay Thompson', 'Steph Curry', 'Zaza Pachulia']\n",
      "---Coach---\n",
      "Steve Kerr\n"
     ]
    }
   ],
   "source": [
    "print \"---Team Name---\"\n",
    "print team1.team_name\n",
    "print \"---Roster---\"\n",
    "print team1.roster\n",
    "print \"---Coach---\"\n",
    "print team1.coach"
   ]
  },
  {
   "cell_type": "markdown",
   "metadata": {},
   "source": [
    "Boom, lookin good. Let's say we want to get a little fancy. Lets say we want it to sort every time we add a player. Right now, we'd call `add_player` then call `sort_roster`. But we can combine the two methods."
   ]
  },
  {
   "cell_type": "code",
   "execution_count": 17,
   "metadata": {
    "collapsed": true
   },
   "outputs": [],
   "source": [
    "class BasketballTeam():\n",
    "    \n",
    "    #Requires a name to instantiate\n",
    "    #Creates team_name, roster, coach attributes\n",
    "    def __init__(self, name):\n",
    "        self.team_name = name\n",
    "        self.roster = []\n",
    "        self.coach = None\n",
    "        \n",
    "    #Changes the coaches name\n",
    "    def change_coach(self, coach_name):\n",
    "        self.coach = coach_name\n",
    "        print \"{} added as coach.\".format(coach_name)\n",
    "    \n",
    "    #Checks to see if player_name already in roster, if not, adds it to the roster attribute.\n",
    "    #After adding a player, sorts the roster.\n",
    "    def add_player(self, player_name):\n",
    "        if not player_name in self.roster:\n",
    "            self.roster.append(player_name)\n",
    "            print \"{} added to the roster.\".format(player_name)\n",
    "            #This line now sorts every time it adds a player to the roster\n",
    "            self.sort_roster()\n",
    "        else:\n",
    "            print \"Player already on roster.\"\n",
    "    \n",
    "    def sort_roster(self):\n",
    "        self.roster = sorted(self.roster)\n",
    "        print \"Roster sorted.\""
   ]
  },
  {
   "cell_type": "markdown",
   "metadata": {},
   "source": [
    "Adding players 1 at a time, notice how it auto sorts!"
   ]
  },
  {
   "cell_type": "code",
   "execution_count": 18,
   "metadata": {
    "collapsed": false
   },
   "outputs": [
    {
     "name": "stdout",
     "output_type": "stream",
     "text": [
      "Steve Kerr added as coach.\n",
      "\n",
      "\n",
      "---Roster---\n",
      "[]\n",
      "\n",
      "\n",
      "Steph Curry added to the roster.\n",
      "Roster sorted.\n",
      "---Roster---\n",
      "['Steph Curry']\n",
      "\n",
      "\n",
      "Klay Thompson added to the roster.\n",
      "Roster sorted.\n",
      "---Roster---\n",
      "['Klay Thompson', 'Steph Curry']\n",
      "\n",
      "\n",
      "Kevin Durant added to the roster.\n",
      "Roster sorted.\n",
      "---Roster---\n",
      "['Kevin Durant', 'Klay Thompson', 'Steph Curry']\n",
      "\n",
      "\n",
      "Draymond Green added to the roster.\n",
      "Roster sorted.\n",
      "---Roster---\n",
      "['Draymond Green', 'Kevin Durant', 'Klay Thompson', 'Steph Curry']\n",
      "\n",
      "\n",
      "Zaza Pachulia added to the roster.\n",
      "Roster sorted.\n",
      "---Roster---\n",
      "['Draymond Green', 'Kevin Durant', 'Klay Thompson', 'Steph Curry', 'Zaza Pachulia']\n",
      "\n",
      "\n"
     ]
    }
   ],
   "source": [
    "team1 = BasketballTeam(\"Golden State Warriors\")\n",
    "\n",
    "team1.change_coach(\"Steve Kerr\")\n",
    "print \"\\n\"\n",
    "\n",
    "print \"---Roster---\"\n",
    "print team1.roster\n",
    "print \"\\n\"\n",
    "\n",
    "team1.add_player(\"Steph Curry\")\n",
    "print \"---Roster---\"\n",
    "print team1.roster\n",
    "print \"\\n\"\n",
    "\n",
    "team1.add_player(\"Klay Thompson\")\n",
    "print \"---Roster---\"\n",
    "print team1.roster\n",
    "print \"\\n\"\n",
    "\n",
    "team1.add_player(\"Kevin Durant\")\n",
    "print \"---Roster---\"\n",
    "print team1.roster\n",
    "print \"\\n\"\n",
    "\n",
    "team1.add_player(\"Draymond Green\")\n",
    "print \"---Roster---\"\n",
    "print team1.roster\n",
    "print \"\\n\"\n",
    "\n",
    "\n",
    "team1.add_player(\"Zaza Pachulia\")\n",
    "print \"---Roster---\"\n",
    "print team1.roster\n",
    "print \"\\n\""
   ]
  },
  {
   "cell_type": "markdown",
   "metadata": {},
   "source": [
    "With classes you can get as fancy or unfancy as you want with calling functions of functions. It's up to you to decide how to organize/make it pretty.\n",
    "\n",
    "In this example we used the golden state warriors, but the whole point classes is that they're a blueprint. We can use this class for any team we want. Let's make the Cavs just to rub salt in the wounds. Notice how easy it is to do the exact same thing as we did above."
   ]
  },
  {
   "cell_type": "code",
   "execution_count": 19,
   "metadata": {
    "collapsed": false
   },
   "outputs": [
    {
     "name": "stdout",
     "output_type": "stream",
     "text": [
      "Tyronn Lue added as coach.\n",
      "Kyrie Irving added to the roster.\n",
      "Roster sorted.\n",
      "Iman Shumpert added to the roster.\n",
      "Roster sorted.\n",
      "LeBron James added to the roster.\n",
      "Roster sorted.\n",
      "Kevin Love added to the roster.\n",
      "Roster sorted.\n",
      "Tristan Thompson added to the roster.\n",
      "Roster sorted.\n",
      "\n",
      "\n",
      "---Team Name---\n",
      "Cleveland Cavaliers\n",
      "---Roster---\n",
      "['Iman Shumpert', 'Kevin Love', 'Kyrie Irving', 'LeBron James', 'Tristan Thompson']\n",
      "---Coach---\n",
      "Tyronn Lue\n"
     ]
    }
   ],
   "source": [
    "team2 = BasketballTeam(\"Cleveland Cavaliers\")\n",
    "\n",
    "team2.change_coach(\"Tyronn Lue\")\n",
    "team2.add_player(\"Kyrie Irving\")\n",
    "team2.add_player(\"Iman Shumpert\")\n",
    "team2.add_player(\"LeBron James\")\n",
    "team2.add_player(\"Kevin Love\")\n",
    "team2.add_player(\"Tristan Thompson\")\n",
    "\n",
    "print \"\\n\"\n",
    "print \"---Team Name---\"\n",
    "print team2.team_name\n",
    "print \"---Roster---\"\n",
    "print team2.roster\n",
    "print \"---Coach---\"\n",
    "print team2.coach"
   ]
  },
  {
   "cell_type": "markdown",
   "metadata": {},
   "source": [
    "### To recap\n",
    "\n",
    "**Class** - The blueprint/template you create to use. In our case, it was `the BasketballTeam()` class.<br>  \n",
    "**Instance** - The \"examples\" of the class. In our case, `team1` and `team2` were both instances of the `BasketballTeam` class.<br>\n",
    "**Attributes** - Variables bound to your class. Called with **instance**.**attribute**. In our case, these would be the `self.team_name`, `self.roster`, and `self.coach` attributes.<br>\n",
    "**Methods** - These are just functions bound to your class. Called with **instance**.**method**(). In our case, it would be `self.change_coach()`, `self.add_player()`, `self.sort_roster()`"
   ]
  },
  {
   "cell_type": "code",
   "execution_count": null,
   "metadata": {
    "collapsed": true
   },
   "outputs": [],
   "source": []
  }
 ],
 "metadata": {
  "anaconda-cloud": {},
  "kernelspec": {
   "display_name": "Python [conda root]",
   "language": "python",
   "name": "conda-root-py"
  },
  "language_info": {
   "codemirror_mode": {
    "name": "ipython",
    "version": 2
   },
   "file_extension": ".py",
   "mimetype": "text/x-python",
   "name": "python",
   "nbconvert_exporter": "python",
   "pygments_lexer": "ipython2",
   "version": "2.7.12"
  }
 },
 "nbformat": 4,
 "nbformat_minor": 1
}
